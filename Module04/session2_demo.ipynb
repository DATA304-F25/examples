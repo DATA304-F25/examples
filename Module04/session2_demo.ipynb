{
 "cells": [
  {
   "cell_type": "markdown",
   "id": "ccca7d82",
   "metadata": {},
   "source": [
    "\n",
    "# DATA 304 — Module 4: Importing Data II\n",
    "## Session 2 Demo — APIs and HTTP (Step-by-step)\n",
    "\n",
    "**What you'll practice**\n",
    "1) Hello API (simple GET) → check status, headers, text vs JSON  \n",
    "2) Parse JSON safely  \n",
    "3) Query parameters with a real API  \n",
    "4) Normalize response to a pandas DataFrame  \n",
    "5) Basic error handling with 404  \n",
    "6) Gentle pagination loop  \n",
    "7) Minimal auth headers (User-Agent and Bearer token pattern)  \n",
    "8) Export results\n"
   ]
  },
  {
   "cell_type": "code",
   "execution_count": 1,
   "id": "b1e08d1c",
   "metadata": {},
   "outputs": [
    {
     "name": "stdout",
     "output_type": "stream",
     "text": [
      "Setup OK\n"
     ]
    }
   ],
   "source": [
    "\n",
    "import requests, pandas as pd, json, time\n",
    "from pathlib import Path\n",
    "OUT = Path('./data/outputs'); OUT.mkdir(exist_ok=True)\n",
    "print('Setup OK')"
   ]
  },
  {
   "cell_type": "markdown",
   "id": "aa61a74d",
   "metadata": {},
   "source": [
    "## 1) Hello API — simple GET"
   ]
  },
  {
   "cell_type": "code",
   "execution_count": 2,
   "id": "0ff081f8",
   "metadata": {},
   "outputs": [
    {
     "name": "stdout",
     "output_type": "stream",
     "text": [
      "Status: 200\n",
      "First 200 chars of text:\n",
      "{\n",
      "  \"current_user_url\": \"https://api.github.com/user\",\n",
      "  \"current_user_authorizations_html_url\": \"https://github.com/settings/connections/applications{/client_id}\",\n",
      "  \"authorizations_url\": \"https://ap\n"
     ]
    }
   ],
   "source": [
    "\n",
    "url = \"https://api.github.com/\"\n",
    "r = requests.get(url, timeout=10)\n",
    "print(\"Status:\", r.status_code)\n",
    "print(\"First 200 chars of text:\")\n",
    "print(r.text[:200])"
   ]
  },
  {
   "cell_type": "markdown",
   "id": "7a2aa40a",
   "metadata": {},
   "source": [
    "## 2) Parsing JSON — `.json()` vs `.text`"
   ]
  },
  {
   "cell_type": "code",
   "execution_count": 3,
   "id": "2c84131a",
   "metadata": {},
   "outputs": [
    {
     "name": "stdout",
     "output_type": "stream",
     "text": [
      "Top-level keys: ['current_user_url', 'current_user_authorizations_html_url', 'authorizations_url', 'code_search_url', 'commit_search_url', 'emails_url', 'emojis_url', 'events_url', 'feeds_url', 'followers_url']\n"
     ]
    },
    {
     "data": {
      "text/plain": [
       "{'current_user_url': 'https://api.github.com/user',\n",
       " 'current_user_authorizations_html_url': 'https://github.com/settings/connections/applications{/client_id}',\n",
       " 'authorizations_url': 'https://api.github.com/authorizations',\n",
       " 'code_search_url': 'https://api.github.com/search/code?q={query}{&page,per_page,sort,order}',\n",
       " 'commit_search_url': 'https://api.github.com/search/commits?q={query}{&page,per_page,sort,order}',\n",
       " 'emails_url': 'https://api.github.com/user/emails',\n",
       " 'emojis_url': 'https://api.github.com/emojis',\n",
       " 'events_url': 'https://api.github.com/events',\n",
       " 'feeds_url': 'https://api.github.com/feeds',\n",
       " 'followers_url': 'https://api.github.com/user/followers',\n",
       " 'following_url': 'https://api.github.com/user/following{/target}',\n",
       " 'gists_url': 'https://api.github.com/gists{/gist_id}',\n",
       " 'hub_url': 'https://api.github.com/hub',\n",
       " 'issue_search_url': 'https://api.github.com/search/issues?q={query}{&page,per_page,sort,order}',\n",
       " 'issues_url': 'https://api.github.com/issues',\n",
       " 'keys_url': 'https://api.github.com/user/keys',\n",
       " 'label_search_url': 'https://api.github.com/search/labels?q={query}&repository_id={repository_id}{&page,per_page}',\n",
       " 'notifications_url': 'https://api.github.com/notifications',\n",
       " 'organization_url': 'https://api.github.com/orgs/{org}',\n",
       " 'organization_repositories_url': 'https://api.github.com/orgs/{org}/repos{?type,page,per_page,sort}',\n",
       " 'organization_teams_url': 'https://api.github.com/orgs/{org}/teams',\n",
       " 'public_gists_url': 'https://api.github.com/gists/public',\n",
       " 'rate_limit_url': 'https://api.github.com/rate_limit',\n",
       " 'repository_url': 'https://api.github.com/repos/{owner}/{repo}',\n",
       " 'repository_search_url': 'https://api.github.com/search/repositories?q={query}{&page,per_page,sort,order}',\n",
       " 'current_user_repositories_url': 'https://api.github.com/user/repos{?type,page,per_page,sort}',\n",
       " 'starred_url': 'https://api.github.com/user/starred{/owner}{/repo}',\n",
       " 'starred_gists_url': 'https://api.github.com/gists/starred',\n",
       " 'topic_search_url': 'https://api.github.com/search/topics?q={query}{&page,per_page}',\n",
       " 'user_url': 'https://api.github.com/users/{user}',\n",
       " 'user_organizations_url': 'https://api.github.com/user/orgs',\n",
       " 'user_repositories_url': 'https://api.github.com/users/{user}/repos{?type,page,per_page,sort}',\n",
       " 'user_search_url': 'https://api.github.com/search/users?q={query}{&page,per_page,sort,order}'}"
      ]
     },
     "execution_count": 3,
     "metadata": {},
     "output_type": "execute_result"
    }
   ],
   "source": [
    "\n",
    "# Safer: handle non-JSON responses\n",
    "data = None\n",
    "try:\n",
    "    data = r.json()\n",
    "    print(\"Top-level keys:\", list(data.keys())[:10])\n",
    "except ValueError:\n",
    "    print(\"Response is not JSON; falling back to text\")\n",
    "    data = {\"raw_text\": r.text}\n",
    "data"
   ]
  },
  {
   "cell_type": "markdown",
   "id": "7af174dd",
   "metadata": {},
   "source": [
    "## 3) Query parameters — Open-Meteo (no key)"
   ]
  },
  {
   "cell_type": "code",
   "execution_count": 4,
   "id": "41f5852e",
   "metadata": {},
   "outputs": [
    {
     "data": {
      "text/plain": [
       "['latitude',\n",
       " 'longitude',\n",
       " 'generationtime_ms',\n",
       " 'utc_offset_seconds',\n",
       " 'timezone',\n",
       " 'timezone_abbreviation',\n",
       " 'elevation',\n",
       " 'hourly_units',\n",
       " 'hourly']"
      ]
     },
     "execution_count": 4,
     "metadata": {},
     "output_type": "execute_result"
    }
   ],
   "source": [
    "\n",
    "params = {\"latitude\": 35.96, \"longitude\": -83.92, \"hourly\": \"temperature_2m\"}\n",
    "r_met = requests.get(\"https://api.open-meteo.com/v1/forecast\", params=params, timeout=15)\n",
    "r_met.raise_for_status()\n",
    "payload_met = r_met.json()\n",
    "list(payload_met.keys())"
   ]
  },
  {
   "cell_type": "code",
   "execution_count": 5,
   "id": "3f0b18ee",
   "metadata": {},
   "outputs": [
    {
     "ename": "HTTPError",
     "evalue": "404 Client Error: Not Found for url: https://api.github.com/does/not/exist",
     "output_type": "error",
     "traceback": [
      "\u001b[31m---------------------------------------------------------------------------\u001b[39m",
      "\u001b[31mHTTPError\u001b[39m                                 Traceback (most recent call last)",
      "\u001b[36mCell\u001b[39m\u001b[36m \u001b[39m\u001b[32mIn[5]\u001b[39m\u001b[32m, line 3\u001b[39m\n\u001b[32m      1\u001b[39m \u001b[38;5;66;03m# Bad request\u001b[39;00m\n\u001b[32m      2\u001b[39m bad = requests.get(\u001b[33m\"\u001b[39m\u001b[33mhttps://api.github.com/does/not/exist\u001b[39m\u001b[33m\"\u001b[39m)\n\u001b[32m----> \u001b[39m\u001b[32m3\u001b[39m \u001b[43mbad\u001b[49m\u001b[43m.\u001b[49m\u001b[43mraise_for_status\u001b[49m\u001b[43m(\u001b[49m\u001b[43m)\u001b[49m \u001b[38;5;66;03m# raises HTTPError because status = 404\u001b[39;00m\n",
      "\u001b[36mFile \u001b[39m\u001b[32m~/.local/lib/python3.12/site-packages/requests/models.py:1026\u001b[39m, in \u001b[36mResponse.raise_for_status\u001b[39m\u001b[34m(self)\u001b[39m\n\u001b[32m   1021\u001b[39m     http_error_msg = (\n\u001b[32m   1022\u001b[39m         \u001b[33mf\u001b[39m\u001b[33m\"\u001b[39m\u001b[38;5;132;01m{\u001b[39;00m\u001b[38;5;28mself\u001b[39m.status_code\u001b[38;5;132;01m}\u001b[39;00m\u001b[33m Server Error: \u001b[39m\u001b[38;5;132;01m{\u001b[39;00mreason\u001b[38;5;132;01m}\u001b[39;00m\u001b[33m for url: \u001b[39m\u001b[38;5;132;01m{\u001b[39;00m\u001b[38;5;28mself\u001b[39m.url\u001b[38;5;132;01m}\u001b[39;00m\u001b[33m\"\u001b[39m\n\u001b[32m   1023\u001b[39m     )\n\u001b[32m   1025\u001b[39m \u001b[38;5;28;01mif\u001b[39;00m http_error_msg:\n\u001b[32m-> \u001b[39m\u001b[32m1026\u001b[39m     \u001b[38;5;28;01mraise\u001b[39;00m HTTPError(http_error_msg, response=\u001b[38;5;28mself\u001b[39m)\n",
      "\u001b[31mHTTPError\u001b[39m: 404 Client Error: Not Found for url: https://api.github.com/does/not/exist"
     ]
    }
   ],
   "source": [
    "# Bad request\n",
    "bad = requests.get(\"https://api.github.com/does/not/exist\")\n",
    "bad.raise_for_status() # raises HTTPError because status = 404\n"
   ]
  },
  {
   "cell_type": "markdown",
   "id": "25c331ee",
   "metadata": {},
   "source": [
    "## 4) From JSON to DataFrame"
   ]
  },
  {
   "cell_type": "code",
   "execution_count": 6,
   "id": "27b9cc39",
   "metadata": {},
   "outputs": [
    {
     "data": {
      "text/html": [
       "<div>\n",
       "<style scoped>\n",
       "    .dataframe tbody tr th:only-of-type {\n",
       "        vertical-align: middle;\n",
       "    }\n",
       "\n",
       "    .dataframe tbody tr th {\n",
       "        vertical-align: top;\n",
       "    }\n",
       "\n",
       "    .dataframe thead th {\n",
       "        text-align: right;\n",
       "    }\n",
       "</style>\n",
       "<table border=\"1\" class=\"dataframe\">\n",
       "  <thead>\n",
       "    <tr style=\"text-align: right;\">\n",
       "      <th></th>\n",
       "      <th>time</th>\n",
       "      <th>temperature_2m</th>\n",
       "    </tr>\n",
       "  </thead>\n",
       "  <tbody>\n",
       "    <tr>\n",
       "      <th>0</th>\n",
       "      <td>2025-09-11 00:00:00+00:00</td>\n",
       "      <td>22.6</td>\n",
       "    </tr>\n",
       "    <tr>\n",
       "      <th>1</th>\n",
       "      <td>2025-09-11 01:00:00+00:00</td>\n",
       "      <td>20.3</td>\n",
       "    </tr>\n",
       "    <tr>\n",
       "      <th>2</th>\n",
       "      <td>2025-09-11 02:00:00+00:00</td>\n",
       "      <td>18.4</td>\n",
       "    </tr>\n",
       "    <tr>\n",
       "      <th>3</th>\n",
       "      <td>2025-09-11 03:00:00+00:00</td>\n",
       "      <td>17.4</td>\n",
       "    </tr>\n",
       "    <tr>\n",
       "      <th>4</th>\n",
       "      <td>2025-09-11 04:00:00+00:00</td>\n",
       "      <td>16.7</td>\n",
       "    </tr>\n",
       "  </tbody>\n",
       "</table>\n",
       "</div>"
      ],
      "text/plain": [
       "                       time  temperature_2m\n",
       "0 2025-09-11 00:00:00+00:00            22.6\n",
       "1 2025-09-11 01:00:00+00:00            20.3\n",
       "2 2025-09-11 02:00:00+00:00            18.4\n",
       "3 2025-09-11 03:00:00+00:00            17.4\n",
       "4 2025-09-11 04:00:00+00:00            16.7"
      ]
     },
     "execution_count": 6,
     "metadata": {},
     "output_type": "execute_result"
    }
   ],
   "source": [
    "\n",
    "hourly = payload_met.get(\"hourly\", {})\n",
    "df_met = pd.DataFrame({\"time\": hourly.get(\"time\", []),\n",
    "                       \"temperature_2m\": hourly.get(\"temperature_2m\", [])})\n",
    "df_met['time'] = pd.to_datetime(df_met['time'], utc=True, errors='coerce')\n",
    "df_met.head()"
   ]
  },
  {
   "cell_type": "markdown",
   "id": "c8bd0d02",
   "metadata": {},
   "source": [
    "## 5) Basic error handling — demonstrate 404"
   ]
  },
  {
   "cell_type": "code",
   "execution_count": 7,
   "id": "f065439c",
   "metadata": {},
   "outputs": [
    {
     "name": "stdout",
     "output_type": "stream",
     "text": [
      "Status: 404\n",
      "Handled HTTP error: 404 Client Error: Not Found for url: https://api.weather.gov/this/endpoint/does/not/exist\n"
     ]
    }
   ],
   "source": [
    "\n",
    "try:\n",
    "    bad = requests.get(\"https://api.weather.gov/this/endpoint/does/not/exist\", timeout=10)\n",
    "    print(\"Status:\", bad.status_code)\n",
    "    bad.raise_for_status()  # will raise for 4xx/5xx\n",
    "except requests.HTTPError as e:\n",
    "    print(\"Handled HTTP error:\", e)"
   ]
  },
  {
   "cell_type": "markdown",
   "id": "096f8cdf",
   "metadata": {},
   "source": [
    "## 6) Gentle pagination"
   ]
  },
  {
   "cell_type": "code",
   "execution_count": 8,
   "id": "4b055df3",
   "metadata": {},
   "outputs": [
    {
     "name": "stdout",
     "output_type": "stream",
     "text": [
      "10\n",
      "20\n",
      "20 rows from 2 pages\n"
     ]
    },
    {
     "data": {
      "text/html": [
       "<div>\n",
       "<style scoped>\n",
       "    .dataframe tbody tr th:only-of-type {\n",
       "        vertical-align: middle;\n",
       "    }\n",
       "\n",
       "    .dataframe tbody tr th {\n",
       "        vertical-align: top;\n",
       "    }\n",
       "\n",
       "    .dataframe thead th {\n",
       "        text-align: right;\n",
       "    }\n",
       "</style>\n",
       "<table border=\"1\" class=\"dataframe\">\n",
       "  <thead>\n",
       "    <tr style=\"text-align: right;\">\n",
       "      <th></th>\n",
       "      <th>full_name</th>\n",
       "      <th>stargazers_count</th>\n",
       "      <th>forks_count</th>\n",
       "      <th>language</th>\n",
       "      <th>html_url</th>\n",
       "    </tr>\n",
       "  </thead>\n",
       "  <tbody>\n",
       "    <tr>\n",
       "      <th>0</th>\n",
       "      <td>fivethirtyeight/data</td>\n",
       "      <td>17178</td>\n",
       "      <td>11138</td>\n",
       "      <td>Jupyter Notebook</td>\n",
       "      <td>https://github.com/fivethirtyeight/data</td>\n",
       "    </tr>\n",
       "    <tr>\n",
       "      <th>1</th>\n",
       "      <td>GoogleTrends/data</td>\n",
       "      <td>4728</td>\n",
       "      <td>453</td>\n",
       "      <td>JavaScript</td>\n",
       "      <td>https://github.com/GoogleTrends/data</td>\n",
       "    </tr>\n",
       "    <tr>\n",
       "      <th>2</th>\n",
       "      <td>GSA/data</td>\n",
       "      <td>2193</td>\n",
       "      <td>277</td>\n",
       "      <td>HTML</td>\n",
       "      <td>https://github.com/GSA/data</td>\n",
       "    </tr>\n",
       "    <tr>\n",
       "      <th>3</th>\n",
       "      <td>aptnotes/data</td>\n",
       "      <td>1746</td>\n",
       "      <td>286</td>\n",
       "      <td>None</td>\n",
       "      <td>https://github.com/aptnotes/data</td>\n",
       "    </tr>\n",
       "    <tr>\n",
       "      <th>4</th>\n",
       "      <td>binlist/data</td>\n",
       "      <td>640</td>\n",
       "      <td>361</td>\n",
       "      <td>None</td>\n",
       "      <td>https://github.com/binlist/data</td>\n",
       "    </tr>\n",
       "  </tbody>\n",
       "</table>\n",
       "</div>"
      ],
      "text/plain": [
       "              full_name  stargazers_count  forks_count          language  \\\n",
       "0  fivethirtyeight/data             17178        11138  Jupyter Notebook   \n",
       "1     GoogleTrends/data              4728          453        JavaScript   \n",
       "2              GSA/data              2193          277              HTML   \n",
       "3         aptnotes/data              1746          286              None   \n",
       "4          binlist/data               640          361              None   \n",
       "\n",
       "                                  html_url  \n",
       "0  https://github.com/fivethirtyeight/data  \n",
       "1     https://github.com/GoogleTrends/data  \n",
       "2              https://github.com/GSA/data  \n",
       "3         https://github.com/aptnotes/data  \n",
       "4          https://github.com/binlist/data  "
      ]
     },
     "execution_count": 8,
     "metadata": {},
     "output_type": "execute_result"
    }
   ],
   "source": [
    "import requests, pandas as pd, time\n",
    "\n",
    "headers = {\"User-Agent\": \"DATA304-Demo/1.0\"}\n",
    "base = \"https://api.github.com/search/repositories\"\n",
    "\n",
    "all_items = []\n",
    "for page in (1, 2):  # simple two-page demo\n",
    "    params = {\"q\": \"data\", \"per_page\": 10, \"page\": page}\n",
    "    r = requests.get(base, params=params, headers=headers, timeout=15)\n",
    "    r.raise_for_status()\n",
    "    payload = r.json()\n",
    "    all_items.extend(payload.get(\"items\", []))\n",
    "    time.sleep(1)  # be polite\n",
    "    print(len(all_items))\n",
    "\n",
    "df = pd.json_normalize(all_items)\n",
    "df = df[[\"full_name\", \"stargazers_count\", \"forks_count\", \"language\", \"html_url\"]]\n",
    "print(len(df), \"rows from 2 pages\")\n",
    "df.head()\n"
   ]
  },
  {
   "cell_type": "markdown",
   "id": "344b064b",
   "metadata": {},
   "source": [
    "## 7) Minimal auth headers — User-Agent and Bearer token pattern"
   ]
  },
  {
   "cell_type": "code",
   "execution_count": 9,
   "id": "1b45c7fa",
   "metadata": {},
   "outputs": [
    {
     "name": "stdout",
     "output_type": "stream",
     "text": [
      "weather.gov status: 200\n",
      "Example Authorization header prepared: {'Authorization': 'Bearer YOUR_TOKEN_HERE'}\n"
     ]
    }
   ],
   "source": [
    "\n",
    "# NOAA NWS requires a descriptive User-Agent. Use your org/course contact.\n",
    "headers = {\"User-Agent\": \"DATA304/Module4 (contact: instructor@example.edu)\"}\n",
    "check = requests.get(\"https://api.weather.gov/points/35.96,-83.92\", headers=headers, timeout=15)\n",
    "print(\"weather.gov status:\", check.status_code)\n",
    "\n",
    "# Bearer token pattern (example only; do not hard-code real keys)\n",
    "fake_headers = {\"Authorization\": \"Bearer YOUR_TOKEN_HERE\"}\n",
    "print(\"Example Authorization header prepared:\", fake_headers)"
   ]
  },
  {
   "cell_type": "markdown",
   "id": "aca146a9",
   "metadata": {},
   "source": [
    "## 8) Export results"
   ]
  },
  {
   "cell_type": "code",
   "execution_count": 10,
   "id": "d38ca9b5",
   "metadata": {},
   "outputs": [
    {
     "data": {
      "text/plain": [
       "['events.csv',\n",
       " 'flat.csv',\n",
       " 'open_meteo_hourly.csv',\n",
       " 'posts_from_json.csv',\n",
       " 'records_harmonized.csv',\n",
       " 'users_posts_from_json.csv',\n",
       " 'usgs_quakes_small.csv',\n",
       " 'xml_users_posts.csv',\n",
       " 'xml_users_posts_exploded.csv']"
      ]
     },
     "execution_count": 10,
     "metadata": {},
     "output_type": "execute_result"
    }
   ],
   "source": [
    "\n",
    "df_met.to_csv(OUT / \"open_meteo_hourly.csv\", index=False)\n",
    "df.to_csv(OUT / \"usgs_quakes_small.csv\", index=False)\n",
    "sorted(p.name for p in OUT.iterdir())"
   ]
  },
  {
   "cell_type": "markdown",
   "id": "f1529eff",
   "metadata": {},
   "source": [
    "\n",
    "**Summary**\n",
    "- Request → status + headers → `.json()` parse\n",
    "- Params drive what the server returns\n",
    "- Convert JSON → DataFrame for analysis\n",
    "- Handle errors explicitly\n",
    "- Small pagination loops are common\n",
    "- Add headers when required; keep secrets out of notebooks\n"
   ]
  }
 ],
 "metadata": {
  "kernelspec": {
   "display_name": "Python 3",
   "language": "python",
   "name": "python3"
  },
  "language_info": {
   "codemirror_mode": {
    "name": "ipython",
    "version": 3
   },
   "file_extension": ".py",
   "mimetype": "text/x-python",
   "name": "python",
   "nbconvert_exporter": "python",
   "pygments_lexer": "ipython3",
   "version": "3.12.1"
  }
 },
 "nbformat": 4,
 "nbformat_minor": 5
}
