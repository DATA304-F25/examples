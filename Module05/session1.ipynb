{
 "cells": [
  {
   "cell_type": "markdown",
   "id": "375c46ca",
   "metadata": {},
   "source": [
    "\n",
    "# DATA 304 — Module 5, Session 1\n",
    "## HTML and Web Scraping Demo\n",
    "\n",
    "This notebook demonstrates:\n",
    "- Basics of HTTP requests\n",
    "- Parsing HTML with BeautifulSoup\n",
    "- Extracting tables with `pandas.read_html`\n",
    "- Parsing semi-structured content (div/span listings)\n",
    "- A small activity for practice\n"
   ]
  },
  {
   "cell_type": "code",
   "execution_count": 1,
   "id": "13a885a5",
   "metadata": {},
   "outputs": [
    {
     "name": "stdout",
     "output_type": "stream",
     "text": [
      "3.12.11 (main, Aug 12 2025, 23:10:44) [GCC 14.2.0]\n"
     ]
    }
   ],
   "source": [
    "\n",
    "# Imports\n",
    "import sys\n",
    "print(sys.version)\n",
    "\n",
    "# Core libs for this session\n",
    "import pandas as pd\n",
    "from bs4 import BeautifulSoup\n",
    "\n",
    "import requests\n",
    "\n",
    "# Utility\n",
    "from io import StringIO\n"
   ]
  },
  {
   "cell_type": "markdown",
   "id": "de7617bf",
   "metadata": {},
   "source": [
    "\n",
    "## 1) HTTP Requests Pattern\n",
    "\n",
    "Typical pattern when fetching a page:\n",
    "1. Make a `GET` request.\n",
    "2. Check status code.\n",
    "3. Use `response.text` as the HTML to parse.\n",
    "\n",
    "Below we **show** the pattern. The environment here has no internet, so the actual request is wrapped in a try/except and falls back to a local HTML sample.\n"
   ]
  },
  {
   "cell_type": "code",
   "execution_count": 2,
   "id": "b953cc79",
   "metadata": {},
   "outputs": [
    {
     "name": "stdout",
     "output_type": "stream",
     "text": [
      "Falling back to local sample HTML due to: HTTPError\n",
      "Using local sample HTML string instead.\n"
     ]
    }
   ],
   "source": [
    "\n",
    "# URL\n",
    "url = \"https://en.wikipedia.org/wiki/List_of_FIFA_World_Cup_finals\"\n",
    "\n",
    "try:\n",
    "    resp = requests.get(url, timeout=10)\n",
    "    resp.raise_for_status()\n",
    "    html = resp.text\n",
    "    print(\"Fetched from the web:\", url)\n",
    "except Exception as e:\n",
    "    print(\"Falling back to local sample HTML due to:\", e.__class__.__name__)\n",
    "    html2 = '\\n<!DOCTYPE html>\\n<html>\\n  <head>\\n    <title>Demo Page</title>\\n  </head>\\n  <body>\\n    <h1 class=\"title\">Sample Headline</h1>\\n    <p id=\"msg\">Hello, world.</p>\\n\\n    <h2>Top Stories</h2>\\n    <ul>\\n      <li><a href=\"/story/1\">Story One</a></li>\\n      <li><a href=\"/story/2\">Story Two</a></li>\\n      <li><a href=\"/story/3\">Story Three</a></li>\\n    </ul>\\n\\n    <h2>Population Table</h2>\\n    <table>\\n      <thead>\\n        <tr><th>Country</th><th>Population</th></tr>\\n      </thead>\\n      <tbody>\\n        <tr><td>Aland</td><td>30,000</td></tr>\\n        <tr><td>Bravo</td><td>1,250,000</td></tr>\\n        <tr><td>Charlie</td><td>9,999,999</td></tr>\\n      </tbody>\\n    </table>\\n\\n    <h2>Products</h2>\\n    <div class=\"product\">\\n      <span class=\"name\">Widget A</span>\\n      <span class=\"price\">$9.99</span>\\n    </div>\\n    <div class=\"product promo\">\\n      <span class=\"name\">Widget B</span>\\n      <span class=\"price\">$14.50</span>\\n    </div>\\n  </body>\\n</html>\\n'  # local demo HTML string\n",
    "    print(\"Using local sample HTML string instead.\")\n"
   ]
  },
  {
   "cell_type": "code",
   "execution_count": 3,
   "id": "273568b3",
   "metadata": {},
   "outputs": [],
   "source": [
    "import requests\n",
    "\n",
    "url = \"https://en.wikipedia.org/wiki/List_of_FIFA_World_Cup_finals\"\n",
    "headers = {\"User-Agent\": \"Mozilla/5.0\"}\n",
    "resp = requests.get(url, headers=headers, timeout=10)\n",
    "resp.raise_for_status()\n",
    "html = resp.text"
   ]
  },
  {
   "cell_type": "markdown",
   "id": "01be8e6a",
   "metadata": {},
   "source": [
    "\n",
    "## 2) Parsing HTML with BeautifulSoup\n",
    "\n",
    "We create a `BeautifulSoup` object and then query elements by tag, attribute, or CSS selectors.\n"
   ]
  },
  {
   "cell_type": "code",
   "execution_count": 4,
   "id": "88ecd898",
   "metadata": {},
   "outputs": [
    {
     "name": "stdout",
     "output_type": "stream",
     "text": [
      "Page title: List of FIFA World Cup finals - Wikipedia\n"
     ]
    }
   ],
   "source": [
    "\n",
    "soup = BeautifulSoup(html, \"html.parser\")\n",
    "\n",
    "# Extract title text\n",
    "page_title = soup.title.text if soup.title else None\n",
    "print(\"Page title:\", page_title)"
   ]
  },
  {
   "cell_type": "code",
   "execution_count": 5,
   "id": "78c3aa60",
   "metadata": {},
   "outputs": [
    {
     "name": "stdout",
     "output_type": "stream",
     "text": [
      "H1 .title -> None\n"
     ]
    }
   ],
   "source": [
    "# Example: get the H1 with class 'title'\n",
    "h1_title = soup.find(\"h1\", {\"class\": \"header\"})\n",
    "print(\"H1 .title ->\", h1_title.text if h1_title else None)"
   ]
  },
  {
   "cell_type": "code",
   "execution_count": 6,
   "id": "502ee87f",
   "metadata": {},
   "outputs": [
    {
     "data": {
      "text/plain": [
       "[('Main page', '/wiki/Main_Page'),\n",
       " ('Contents', '/wiki/Wikipedia:Contents'),\n",
       " ('Current events', '/wiki/Portal:Current_events'),\n",
       " ('Random article', '/wiki/Special:Random'),\n",
       " ('About Wikipedia', '/wiki/Wikipedia:About')]"
      ]
     },
     "execution_count": 6,
     "metadata": {},
     "output_type": "execute_result"
    }
   ],
   "source": [
    "# Extract story links under 'Top Stories'\n",
    "links = [(a.text.strip(), a.get(\"href\")) for a in soup.select(\"ul li a\")]\n",
    "links[:5]"
   ]
  },
  {
   "cell_type": "markdown",
   "id": "133c75ca",
   "metadata": {},
   "source": [
    "\n",
    "## 3) Extracting Tables with `pandas.read_html`\n",
    "\n",
    "`pandas.read_html` can parse one or more tables from a page or from an HTML string. It returns a list of DataFrames.\n"
   ]
  },
  {
   "cell_type": "code",
   "execution_count": 7,
   "id": "14106f3f",
   "metadata": {},
   "outputs": [
    {
     "name": "stdout",
     "output_type": "stream",
     "text": [
      "Found 8 table(s).\n"
     ]
    },
    {
     "data": {
      "text/html": [
       "<div>\n",
       "<style scoped>\n",
       "    .dataframe tbody tr th:only-of-type {\n",
       "        vertical-align: middle;\n",
       "    }\n",
       "\n",
       "    .dataframe tbody tr th {\n",
       "        vertical-align: top;\n",
       "    }\n",
       "\n",
       "    .dataframe thead th {\n",
       "        text-align: right;\n",
       "    }\n",
       "</style>\n",
       "<table border=\"1\" class=\"dataframe\">\n",
       "  <thead>\n",
       "    <tr style=\"text-align: right;\">\n",
       "      <th></th>\n",
       "      <th>0</th>\n",
       "      <th>1</th>\n",
       "    </tr>\n",
       "  </thead>\n",
       "  <tbody>\n",
       "    <tr>\n",
       "      <th>0</th>\n",
       "      <td>Founded</td>\n",
       "      <td>1930; 95 years ago</td>\n",
       "    </tr>\n",
       "    <tr>\n",
       "      <th>1</th>\n",
       "      <td>Current champions</td>\n",
       "      <td>Argentina (3rd title)</td>\n",
       "    </tr>\n",
       "    <tr>\n",
       "      <th>2</th>\n",
       "      <td>Most successful team(s)</td>\n",
       "      <td>Brazil (5 titles)</td>\n",
       "    </tr>\n",
       "  </tbody>\n",
       "</table>\n",
       "</div>"
      ],
      "text/plain": [
       "                         0                      1\n",
       "0                  Founded     1930; 95 years ago\n",
       "1        Current champions  Argentina (3rd title)\n",
       "2  Most successful team(s)      Brazil (5 titles)"
      ]
     },
     "execution_count": 7,
     "metadata": {},
     "output_type": "execute_result"
    }
   ],
   "source": [
    "# Use StringIO to provide the HTML string as a file-like object\n",
    "tables = pd.read_html(StringIO(html))  # requires lxml or html5lib installed\n",
    "print(f\"Found {len(tables)} table(s).\")\n",
    "tables[0].head()\n"
   ]
  },
  {
   "cell_type": "markdown",
   "id": "5e38fb62",
   "metadata": {},
   "source": [
    "\n",
    "## 4) Semi-Structured Content: Product Listings\n",
    "\n",
    "Many sites use `<div>`/`<span>` structures rather than `<table>`. We can extract and normalize these into a DataFrame.\n"
   ]
  },
  {
   "cell_type": "code",
   "execution_count": 8,
   "id": "a6c0e680",
   "metadata": {},
   "outputs": [
    {
     "data": {
      "text/html": [
       "<div>\n",
       "<style scoped>\n",
       "    .dataframe tbody tr th:only-of-type {\n",
       "        vertical-align: middle;\n",
       "    }\n",
       "\n",
       "    .dataframe tbody tr th {\n",
       "        vertical-align: top;\n",
       "    }\n",
       "\n",
       "    .dataframe thead th {\n",
       "        text-align: right;\n",
       "    }\n",
       "</style>\n",
       "<table border=\"1\" class=\"dataframe\">\n",
       "  <thead>\n",
       "    <tr style=\"text-align: right;\">\n",
       "      <th></th>\n",
       "      <th>name</th>\n",
       "      <th>price_raw</th>\n",
       "      <th>is_promo</th>\n",
       "    </tr>\n",
       "  </thead>\n",
       "  <tbody>\n",
       "    <tr>\n",
       "      <th>0</th>\n",
       "      <td>Widget A</td>\n",
       "      <td>$9.99</td>\n",
       "      <td>False</td>\n",
       "    </tr>\n",
       "    <tr>\n",
       "      <th>1</th>\n",
       "      <td>Widget B</td>\n",
       "      <td>$14.50</td>\n",
       "      <td>True</td>\n",
       "    </tr>\n",
       "  </tbody>\n",
       "</table>\n",
       "</div>"
      ],
      "text/plain": [
       "       name price_raw  is_promo\n",
       "0  Widget A     $9.99     False\n",
       "1  Widget B    $14.50      True"
      ]
     },
     "execution_count": 8,
     "metadata": {},
     "output_type": "execute_result"
    }
   ],
   "source": [
    "soup2 = BeautifulSoup(html2, \"html.parser\")\n",
    "products = []\n",
    "for card in soup2.select(\"div.product\"):\n",
    "    name = card.find(\"span\", class_=\"name\")\n",
    "    price = card.find(\"span\", class_=\"price\")\n",
    "    products.append({\n",
    "        \"name\": name.text.strip() if name else None,\n",
    "        \"price_raw\": price.text.strip() if price else None,\n",
    "        \"is_promo\": \"promo\" in (card.get(\"class\") or []),\n",
    "    })\n",
    "\n",
    "df_products = pd.DataFrame(products)\n",
    "df_products\n"
   ]
  },
  {
   "cell_type": "code",
   "execution_count": 9,
   "id": "30520f7e",
   "metadata": {},
   "outputs": [
    {
     "data": {
      "text/html": [
       "<div>\n",
       "<style scoped>\n",
       "    .dataframe tbody tr th:only-of-type {\n",
       "        vertical-align: middle;\n",
       "    }\n",
       "\n",
       "    .dataframe tbody tr th {\n",
       "        vertical-align: top;\n",
       "    }\n",
       "\n",
       "    .dataframe thead th {\n",
       "        text-align: right;\n",
       "    }\n",
       "</style>\n",
       "<table border=\"1\" class=\"dataframe\">\n",
       "  <thead>\n",
       "    <tr style=\"text-align: right;\">\n",
       "      <th></th>\n",
       "      <th>name</th>\n",
       "      <th>is_promo</th>\n",
       "      <th>price</th>\n",
       "    </tr>\n",
       "  </thead>\n",
       "  <tbody>\n",
       "    <tr>\n",
       "      <th>0</th>\n",
       "      <td>Widget A</td>\n",
       "      <td>False</td>\n",
       "      <td>9.99</td>\n",
       "    </tr>\n",
       "    <tr>\n",
       "      <th>1</th>\n",
       "      <td>Widget B</td>\n",
       "      <td>True</td>\n",
       "      <td>14.50</td>\n",
       "    </tr>\n",
       "  </tbody>\n",
       "</table>\n",
       "</div>"
      ],
      "text/plain": [
       "       name  is_promo  price\n",
       "0  Widget A     False   9.99\n",
       "1  Widget B      True  14.50"
      ]
     },
     "execution_count": 9,
     "metadata": {},
     "output_type": "execute_result"
    }
   ],
   "source": [
    "\n",
    "# Clean the price column into numeric where possible\n",
    "def parse_price(x):\n",
    "    if x is None:\n",
    "        return None\n",
    "    x = x.replace(\"$\", \"\").replace(\",\", \"\").strip()\n",
    "    try:\n",
    "        return float(x)\n",
    "    except ValueError:\n",
    "        return None\n",
    "\n",
    "df_products[\"price\"] = df_products[\"price_raw\"].map(parse_price)\n",
    "df_products.drop(columns=[\"price_raw\"], inplace=True)\n",
    "df_products\n"
   ]
  },
  {
   "cell_type": "code",
   "execution_count": 10,
   "id": "2cbf54de",
   "metadata": {},
   "outputs": [],
   "source": [
    "url3 = \"https://books.toscrape.com\"\n",
    "headers = {\"User-Agent\": \"Mozilla/5.0\"}\n",
    "resp3 = requests.get(url3, headers=headers, timeout=10)\n",
    "resp3.raise_for_status()\n",
    "html3 = resp3.text\n",
    "soup3 = BeautifulSoup(html3, \"html.parser\")"
   ]
  },
  {
   "cell_type": "code",
   "execution_count": 11,
   "id": "3d2e44af",
   "metadata": {},
   "outputs": [
    {
     "data": {
      "text/html": [
       "<div>\n",
       "<style scoped>\n",
       "    .dataframe tbody tr th:only-of-type {\n",
       "        vertical-align: middle;\n",
       "    }\n",
       "\n",
       "    .dataframe tbody tr th {\n",
       "        vertical-align: top;\n",
       "    }\n",
       "\n",
       "    .dataframe thead th {\n",
       "        text-align: right;\n",
       "    }\n",
       "</style>\n",
       "<table border=\"1\" class=\"dataframe\">\n",
       "  <thead>\n",
       "    <tr style=\"text-align: right;\">\n",
       "      <th></th>\n",
       "      <th>name</th>\n",
       "      <th>price_raw</th>\n",
       "      <th>in_stock</th>\n",
       "      <th>rating</th>\n",
       "      <th>url</th>\n",
       "    </tr>\n",
       "  </thead>\n",
       "  <tbody>\n",
       "    <tr>\n",
       "      <th>0</th>\n",
       "      <td>A Light in the Attic</td>\n",
       "      <td>Â£51.77</td>\n",
       "      <td>True</td>\n",
       "      <td>Three</td>\n",
       "      <td>https://books.toscrape.com/catalogue/a-light-i...</td>\n",
       "    </tr>\n",
       "    <tr>\n",
       "      <th>1</th>\n",
       "      <td>Tipping the Velvet</td>\n",
       "      <td>Â£53.74</td>\n",
       "      <td>True</td>\n",
       "      <td>One</td>\n",
       "      <td>https://books.toscrape.com/catalogue/tipping-t...</td>\n",
       "    </tr>\n",
       "    <tr>\n",
       "      <th>2</th>\n",
       "      <td>Soumission</td>\n",
       "      <td>Â£50.10</td>\n",
       "      <td>True</td>\n",
       "      <td>One</td>\n",
       "      <td>https://books.toscrape.com/catalogue/soumissio...</td>\n",
       "    </tr>\n",
       "    <tr>\n",
       "      <th>3</th>\n",
       "      <td>Sharp Objects</td>\n",
       "      <td>Â£47.82</td>\n",
       "      <td>True</td>\n",
       "      <td>Four</td>\n",
       "      <td>https://books.toscrape.com/catalogue/sharp-obj...</td>\n",
       "    </tr>\n",
       "    <tr>\n",
       "      <th>4</th>\n",
       "      <td>Sapiens: A Brief History of Humankind</td>\n",
       "      <td>Â£54.23</td>\n",
       "      <td>True</td>\n",
       "      <td>Five</td>\n",
       "      <td>https://books.toscrape.com/catalogue/sapiens-a...</td>\n",
       "    </tr>\n",
       "  </tbody>\n",
       "</table>\n",
       "</div>"
      ],
      "text/plain": [
       "                                    name price_raw  in_stock rating  \\\n",
       "0                   A Light in the Attic   Â£51.77      True  Three   \n",
       "1                     Tipping the Velvet   Â£53.74      True    One   \n",
       "2                             Soumission   Â£50.10      True    One   \n",
       "3                          Sharp Objects   Â£47.82      True   Four   \n",
       "4  Sapiens: A Brief History of Humankind   Â£54.23      True   Five   \n",
       "\n",
       "                                                 url  \n",
       "0  https://books.toscrape.com/catalogue/a-light-i...  \n",
       "1  https://books.toscrape.com/catalogue/tipping-t...  \n",
       "2  https://books.toscrape.com/catalogue/soumissio...  \n",
       "3  https://books.toscrape.com/catalogue/sharp-obj...  \n",
       "4  https://books.toscrape.com/catalogue/sapiens-a...  "
      ]
     },
     "execution_count": 11,
     "metadata": {},
     "output_type": "execute_result"
    }
   ],
   "source": [
    "rows = []\n",
    "for card in soup3.select(\"article.product_pod\"):\n",
    "    a = card.select_one(\"h3 a\")\n",
    "    rows.append({\n",
    "        \"name\": a.get(\"title\"),\n",
    "        \"price_raw\": card.select_one(\"p.price_color\").text.strip(),\n",
    "        \"in_stock\": \"In stock\" in card.select_one(\"p.instock.availability\").text,\n",
    "        \"rating\": next((c for c in card.select_one(\"p.star-rating\").get(\"class\", []) if c != \"star-rating\"), None),\n",
    "        \"url\": requests.compat.urljoin(url3, a.get(\"href\")),\n",
    "    })\n",
    "\n",
    "df = pd.DataFrame(rows)\n",
    "df.head()"
   ]
  },
  {
   "cell_type": "markdown",
   "id": "607e0fb8",
   "metadata": {},
   "source": [
    "\n",
    "## 5) Activity\n",
    "\n",
    "Using the `html` string already loaded above:\n",
    "1. Extract the three story titles and relative links under **Top Stories** into a DataFrame with columns `title` and `href`.\n",
    "2. Convert the **Population Table** into a DataFrame, clean the `Population` column to an integer, and sort descending by population.\n",
    "3. Save both outputs to CSV files: `stories.csv` and `population.csv`.\n",
    "\n",
    "> Tip: Reuse `BeautifulSoup` for stories and `pandas.read_html` for the population table.\n"
   ]
  },
  {
   "cell_type": "code",
   "execution_count": 12,
   "id": "0446f8cb",
   "metadata": {},
   "outputs": [
    {
     "data": {
      "text/html": [
       "<div>\n",
       "<style scoped>\n",
       "    .dataframe tbody tr th:only-of-type {\n",
       "        vertical-align: middle;\n",
       "    }\n",
       "\n",
       "    .dataframe tbody tr th {\n",
       "        vertical-align: top;\n",
       "    }\n",
       "\n",
       "    .dataframe thead th {\n",
       "        text-align: right;\n",
       "    }\n",
       "</style>\n",
       "<table border=\"1\" class=\"dataframe\">\n",
       "  <thead>\n",
       "    <tr style=\"text-align: right;\">\n",
       "      <th></th>\n",
       "      <th>title</th>\n",
       "      <th>href</th>\n",
       "    </tr>\n",
       "  </thead>\n",
       "  <tbody>\n",
       "    <tr>\n",
       "      <th>0</th>\n",
       "      <td>Story One</td>\n",
       "      <td>/story/1</td>\n",
       "    </tr>\n",
       "    <tr>\n",
       "      <th>1</th>\n",
       "      <td>Story Two</td>\n",
       "      <td>/story/2</td>\n",
       "    </tr>\n",
       "    <tr>\n",
       "      <th>2</th>\n",
       "      <td>Story Three</td>\n",
       "      <td>/story/3</td>\n",
       "    </tr>\n",
       "  </tbody>\n",
       "</table>\n",
       "</div>"
      ],
      "text/plain": [
       "         title      href\n",
       "0    Story One  /story/1\n",
       "1    Story Two  /story/2\n",
       "2  Story Three  /story/3"
      ]
     },
     "metadata": {},
     "output_type": "display_data"
    },
    {
     "data": {
      "text/html": [
       "<div>\n",
       "<style scoped>\n",
       "    .dataframe tbody tr th:only-of-type {\n",
       "        vertical-align: middle;\n",
       "    }\n",
       "\n",
       "    .dataframe tbody tr th {\n",
       "        vertical-align: top;\n",
       "    }\n",
       "\n",
       "    .dataframe thead th {\n",
       "        text-align: right;\n",
       "    }\n",
       "</style>\n",
       "<table border=\"1\" class=\"dataframe\">\n",
       "  <thead>\n",
       "    <tr style=\"text-align: right;\">\n",
       "      <th></th>\n",
       "      <th>Country</th>\n",
       "      <th>Population</th>\n",
       "    </tr>\n",
       "  </thead>\n",
       "  <tbody>\n",
       "    <tr>\n",
       "      <th>2</th>\n",
       "      <td>Charlie</td>\n",
       "      <td>9999999</td>\n",
       "    </tr>\n",
       "    <tr>\n",
       "      <th>1</th>\n",
       "      <td>Bravo</td>\n",
       "      <td>1250000</td>\n",
       "    </tr>\n",
       "    <tr>\n",
       "      <th>0</th>\n",
       "      <td>Aland</td>\n",
       "      <td>30000</td>\n",
       "    </tr>\n",
       "  </tbody>\n",
       "</table>\n",
       "</div>"
      ],
      "text/plain": [
       "   Country  Population\n",
       "2  Charlie     9999999\n",
       "1    Bravo     1250000\n",
       "0    Aland       30000"
      ]
     },
     "metadata": {},
     "output_type": "display_data"
    },
    {
     "name": "stdout",
     "output_type": "stream",
     "text": [
      "Wrote population.csv and stories.csv in the data directory.\n"
     ]
    }
   ],
   "source": [
    "# 1) Stories -> DataFrame\n",
    "stories = []\n",
    "for a in soup2.select(\"ul li a\"):\n",
    "    stories.append({\"title\": a.text.strip(), \"href\": a.get(\"href\")})\n",
    "df_stories = pd.DataFrame(stories)\n",
    "display(df_stories)\n",
    "\n",
    "# 2) Population table -> clean numeric population\n",
    "pop = pd.read_html(StringIO(html2))[0]\n",
    "pop.columns = [c.strip() for c in pop.columns]\n",
    "pop[\"Population\"] = (pop[\"Population\"]\n",
    "                     .astype(str)\n",
    "                     .str.replace(\",\", \"\", regex=False)\n",
    "                     .astype(int))\n",
    "pop_sorted = pop.sort_values(\"Population\", ascending=False)\n",
    "display(pop_sorted)\n",
    "\n",
    "# 3) Save to CSV\n",
    "from pathlib import Path\n",
    "OUT = Path('./data'); OUT.mkdir(exist_ok=True)\n",
    "pop_sorted.to_csv(OUT / \"population.csv\", index=False)\n",
    "df_stories.to_csv(OUT / \"stories.csv\", index=False)\n",
    "\n",
    "print(\"Wrote population.csv and stories.csv in the data directory.\")\n"
   ]
  },
  {
   "cell_type": "markdown",
   "id": "dfe237cb",
   "metadata": {},
   "source": [
    "\n",
    "## 6) Summary\n",
    "\n",
    "- Use `requests` to fetch pages. Check status codes. Respect site policies.\n",
    "- Parse HTML with BeautifulSoup. Use `find`, `find_all`, and CSS selectors.\n",
    "- Use `pandas.read_html` for HTML tables when available.\n",
    "- For semi-structured content, select container elements and normalize to a DataFrame.\n",
    "- Always validate and clean extracted data.\n"
   ]
  }
 ],
 "metadata": {
  "kernelspec": {
   "display_name": "Python 3",
   "language": "python",
   "name": "python3"
  },
  "language_info": {
   "codemirror_mode": {
    "name": "ipython",
    "version": 3
   },
   "file_extension": ".py",
   "mimetype": "text/x-python",
   "name": "python",
   "nbconvert_exporter": "python",
   "pygments_lexer": "ipython3",
   "version": "3.12.11"
  }
 },
 "nbformat": 4,
 "nbformat_minor": 5
}
