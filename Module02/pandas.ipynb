{
 "cells": [
  {
   "cell_type": "code",
   "execution_count": 1,
   "id": "12f51168",
   "metadata": {},
   "outputs": [
    {
     "name": "stdout",
     "output_type": "stream",
     "text": [
      "Original data:\n",
      "      Name   Age Grade\n",
      "0    Alice  20.0     A\n",
      "1      Bob   NaN     B\n",
      "2  Charlie  22.0   NaN\n",
      "3    Diana  21.0     A\n",
      "4      NaN  23.0     B\n"
     ]
    }
   ],
   "source": [
    "import pandas as pd\n",
    "\n",
    "# Loading CSV\n",
    "df = pd.read_csv(\"students.csv\")\n",
    "\n",
    "print(\"Original data:\")\n",
    "print(df)\n"
   ]
  },
  {
   "cell_type": "code",
   "execution_count": 2,
   "id": "2a18b17a",
   "metadata": {},
   "outputs": [
    {
     "name": "stdout",
     "output_type": "stream",
     "text": [
      "After dropping missing values:\n",
      "    Name   Age Grade\n",
      "0  Alice  20.0     A\n",
      "3  Diana  21.0     A\n"
     ]
    }
   ],
   "source": [
    "# Drop rows with any missing values\n",
    "df_clean = df.dropna()\n",
    "\n",
    "print(\"After dropping missing values:\")\n",
    "print(df_clean)"
   ]
  },
  {
   "cell_type": "code",
   "execution_count": 3,
   "id": "0f792cb9",
   "metadata": {},
   "outputs": [
    {
     "name": "stdout",
     "output_type": "stream",
     "text": [
      "Summary statistics:\n",
      "         Name        Age Grade\n",
      "count       2   2.000000     2\n",
      "unique      2        NaN     1\n",
      "top     Alice        NaN     A\n",
      "freq        1        NaN     2\n",
      "mean      NaN  20.500000   NaN\n",
      "std       NaN   0.707107   NaN\n",
      "min       NaN  20.000000   NaN\n",
      "25%       NaN  20.250000   NaN\n",
      "50%       NaN  20.500000   NaN\n",
      "75%       NaN  20.750000   NaN\n",
      "max       NaN  21.000000   NaN\n"
     ]
    }
   ],
   "source": [
    "# Summarize\n",
    "print(\"Summary statistics:\")\n",
    "print(df_clean.describe(include=\"all\"))"
   ]
  }
 ],
 "metadata": {
  "kernelspec": {
   "display_name": "Python 3",
   "language": "python",
   "name": "python3"
  },
  "language_info": {
   "codemirror_mode": {
    "name": "ipython",
    "version": 3
   },
   "file_extension": ".py",
   "mimetype": "text/x-python",
   "name": "python",
   "nbconvert_exporter": "python",
   "pygments_lexer": "ipython3",
   "version": "3.13.7"
  }
 },
 "nbformat": 4,
 "nbformat_minor": 5
}
