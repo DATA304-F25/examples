{
 "cells": [
  {
   "cell_type": "code",
   "execution_count": 4,
   "id": "b4c67602",
   "metadata": {},
   "outputs": [
    {
     "name": "stdout",
     "output_type": "stream",
     "text": [
      "  grade  count\n",
      "0     A      2\n",
      "1     B      1\n",
      "2     C      1\n"
     ]
    }
   ],
   "source": [
    "import sqlite3 as sql\n",
    "import pandas as pd\n",
    "\n",
    "# connect to same file-based DB\n",
    "connection = sql.connect(\"mydb.db\")\n",
    "\n",
    "df = pd.read_sql_query(\n",
    "    \"SELECT grade, COUNT(*) as count FROM students GROUP BY grade\",\n",
    "    connection\n",
    ")\n",
    "\n",
    "print(df)"
   ]
  }
 ],
 "metadata": {
  "kernelspec": {
   "display_name": "Python 3",
   "language": "python",
   "name": "python3"
  },
  "language_info": {
   "codemirror_mode": {
    "name": "ipython",
    "version": 3
   },
   "file_extension": ".py",
   "mimetype": "text/x-python",
   "name": "python",
   "nbconvert_exporter": "python",
   "pygments_lexer": "ipython3",
   "version": "3.13.7"
  }
 },
 "nbformat": 4,
 "nbformat_minor": 5
}
