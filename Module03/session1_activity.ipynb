{
 "cells": [
  {
   "cell_type": "markdown",
   "id": "c4076d00",
   "metadata": {},
   "source": [
    "# DATA 304 – Module 3, Session 1: Hands‑On\n",
    "Flat files, paths, CSV/Excel, compression, and large-file strategies.\n",
    "\n",
    "**Instructions**\n",
    "- Use only standard Python, pandas, and pathlib.\n",
    "- Data files are already provided in the working directory under `data/`.\n"
   ]
  },
  {
   "cell_type": "code",
   "execution_count": null,
   "id": "8f595bd3",
   "metadata": {},
   "outputs": [],
   "source": [
    "# Setup\n",
    "from pathlib import Path\n",
    "import pandas as pd\n",
    "\n",
    "DATA_DIR = Path(\"data\")\n",
    "\n",
    "list(DATA_DIR.iterdir())"
   ]
  },
  {
   "cell_type": "markdown",
   "id": "310ef486",
   "metadata": {},
   "source": [
    "## Task 1 — Paths and portability\n",
    "**Goal:** Build a robust relative path to `clean_sales.csv` and resolve its absolute path.  \n",
    "**Deliverable:** A variable `CLEAN_PATH` of type `Path` and the resolved path printed."
   ]
  },
  {
   "cell_type": "code",
   "execution_count": null,
   "id": "5cb47716",
   "metadata": {},
   "outputs": [],
   "source": [
    "CLEAN_PATH = ...\n",
    "print(CLEAN_PATH)\n",
    "print(CLEAN_PATH.resolve())"
   ]
  },
  {
   "cell_type": "markdown",
   "id": "5b5a6001",
   "metadata": {},
   "source": [
    "## Task 2 — Import and inspect a clean CSV\n",
    "**Goal:** Import `clean_sales.csv` and inspect.\n",
    "**Checklist:**\n",
    "- Preview with `.head()`\n",
    "- Check `.info()` and `.dtypes`"
   ]
  },
  {
   "cell_type": "code",
   "execution_count": null,
   "id": "546a3b4f",
   "metadata": {},
   "outputs": [],
   "source": [
    "df_clean = ..."
   ]
  },
  {
   "cell_type": "markdown",
   "id": "addb44a4",
   "metadata": {},
   "source": [
    "## Task 3 — Semicolon CSV with European decimals and NA tokens\n",
    "**File:** `messy_semicolon.csv`\n",
    "**Goal:**\n",
    "- Read with correct delimiter.\n",
    "- Treat 'NA' as missing.\n",
    "- Convert `amount` from string with comma decimal to `float`.  \n",
    "\n",
    "**Deliverable:** `df_messy` with `amount` as float and NA handled."
   ]
  },
  {
   "cell_type": "code",
   "execution_count": null,
   "id": "b39af52b",
   "metadata": {},
   "outputs": [],
   "source": [
    "MESSY_PATH = DATA_DIR / \"messy_semicolon.csv\"\n",
    "df_messy = ...\n",
    "df_messy.dtypes, df_messy"
   ]
  },
  {
   "cell_type": "markdown",
   "id": "28a1d2ad",
   "metadata": {},
   "source": [
    "## Task 4 — Quoted fields and multiline text\n",
    "**File:** `multiline_quotes.csv`.  \n",
    "**Goal:** Read the file and confirm the second line in `notes` contains a newline and a comma that does not split columns.  \n",
    "**Hint:** Default `quotechar` is `\"`."
   ]
  },
  {
   "cell_type": "code",
   "execution_count": null,
   "id": "5e66388d",
   "metadata": {},
   "outputs": [],
   "source": [
    "QUOTES_PATH = DATA_DIR / \"multiline_quotes.csv\"\n",
    "df_quotes = ..."
   ]
  },
  {
   "cell_type": "markdown",
   "id": "15fb095d",
   "metadata": {},
   "source": [
    "## Task 5 — Excel with junk rows and header repair\n",
    "**File:** `report.xlsx`\n",
    "**Subtasks:**\n",
    "1. List sheet names.\n",
    "2. Read `Summary` skipping the top 3 rows.\n",
    "3. Read `RawData`.\n",
    "\n",
    "**Deliverables:** `df_summary`, `df_raw`."
   ]
  },
  {
   "cell_type": "code",
   "execution_count": null,
   "id": "0485e129",
   "metadata": {},
   "outputs": [],
   "source": [
    "XLS_PATH = DATA_DIR / \"report.xlsx\"\n",
    "xls = ..."
   ]
  },
  {
   "cell_type": "markdown",
   "id": "ae844e1a",
   "metadata": {},
   "source": [
    "## Task 6 — Read compressed CSV without extracting\n",
    "**File:** `events.csv.gz`  \n",
    "**Goal:** Read directly with pandas and preview 3 rows."
   ]
  },
  {
   "cell_type": "code",
   "execution_count": null,
   "id": "e5a0be54",
   "metadata": {},
   "outputs": [],
   "source": [
    "GZ_PATH = DATA_DIR / \"events.csv.gz\"\n",
    "df_gz = ..."
   ]
  },
  {
   "cell_type": "markdown",
   "id": "14251b6d",
   "metadata": {},
   "source": [
    "## Task 7 — Large-file streaming and aggregation\n",
    "**File:** `large_synthetic.csv`  \n",
    "**Goal:**\n",
    "- Stream in chunks of 50,000 rows.\n",
    "- Filter rows where `flag == 'B'` and compute count and sum of `value`.\n",
    "- Report the results.  "
   ]
  },
  {
   "cell_type": "code",
   "execution_count": null,
   "id": "e35cb3dd",
   "metadata": {},
   "outputs": [],
   "source": [
    "LARGE_PATH = DATA_DIR / \"large_synthetic.csv\"\n",
    "\n",
    "chunks = ...\n",
    "total_B = 0\n",
    "sum_value_B = 0.0\n",
    "\n",
    "for chunk in chunks:\n",
    "    df = ...\n",
    "    total_A += len(df)\n",
    "    sum_value_A += df['value'].sum()\n",
    "\n",
    "print(\"Rows with flag B:\", total_B)\n",
    "print(\"Sum of value for flag A:\", round(sum_value_B, 4))"
   ]
  },
  {
   "cell_type": "markdown",
   "id": "71e09950",
   "metadata": {},
   "source": [
    "**Stretch:** Downcast dtypes and compare memory usage."
   ]
  },
  {
   "cell_type": "code",
   "execution_count": null,
   "id": "74eaff00",
   "metadata": {},
   "outputs": [],
   "source": [
    "sample = pd.read_csv(LARGE_PATH)\n",
    "before_mb = sample.memory_usage(deep=True).sum() / (1024**2)\n",
    "\n",
    "opt = sample.copy()\n",
    "opt['user_id'] = ...\n",
    "opt['value'] = ...\n",
    "opt['flag'] = ...\n",
    "\n",
    "after_mb = opt.memory_usage(deep=True).sum() / (1024**2)\n",
    "print(\"Before MB:\", round(before_mb, 3), \"After MB:\", round(after_mb, 3), \"Saved %:\", round(100*(1-after_mb/before_mb), 2))"
   ]
  }
 ],
 "metadata": {
  "kernelspec": {
   "display_name": "Python 3",
   "language": "python",
   "name": "python3"
  },
  "language_info": {
   "codemirror_mode": {
    "name": "ipython",
    "version": 3
   },
   "file_extension": ".py",
   "mimetype": "text/x-python",
   "name": "python",
   "nbconvert_exporter": "python",
   "pygments_lexer": "ipython3",
   "version": "3.11.13"
  }
 },
 "nbformat": 4,
 "nbformat_minor": 5
}
