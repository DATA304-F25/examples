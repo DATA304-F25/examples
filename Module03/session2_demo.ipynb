{
 "cells": [
  {
   "cell_type": "markdown",
   "id": "e44313bc",
   "metadata": {},
   "source": [
    "# DATA 304 – Module 3, Session 2 DEMO\n",
    "Encodings, malformed CSV rows, debugging workflow, and Excel pitfalls.\n",
    "_Data folder: `session2_data/`_"
   ]
  },
  {
   "cell_type": "code",
   "execution_count": 1,
   "id": "14673754",
   "metadata": {},
   "outputs": [
    {
     "data": {
      "text/plain": [
       "[PosixPath('data/large_synthetic.csv'),\n",
       " PosixPath('data/clean_sales.csv'),\n",
       " PosixPath('data/latin1_file.csv'),\n",
       " PosixPath('data/report.xlsx'),\n",
       " PosixPath('data/messy_semicolon.csv'),\n",
       " PosixPath('data/messy_excel.xlsx'),\n",
       " PosixPath('data/events.csv.gz'),\n",
       " PosixPath('data/multiline_quotes.csv'),\n",
       " PosixPath('data/utf8_file.csv'),\n",
       " PosixPath('data/broken_rows.csv')]"
      ]
     },
     "execution_count": 1,
     "metadata": {},
     "output_type": "execute_result"
    }
   ],
   "source": [
    "from pathlib import Path\n",
    "import pandas as pd\n",
    "DATA_DIR = Path(\"data\")\n",
    "list(DATA_DIR.iterdir())"
   ]
  },
  {
   "cell_type": "markdown",
   "id": "111fc7bb",
   "metadata": {},
   "source": [
    "## 1. Character Encodings"
   ]
  },
  {
   "cell_type": "code",
   "execution_count": 2,
   "id": "3bdfefd5",
   "metadata": {},
   "outputs": [
    {
     "name": "stdout",
     "output_type": "stream",
     "text": [
      "Error: 'ascii' codec can't decode byte 0xc3 in position 18: ordinal not in range(128)\n"
     ]
    }
   ],
   "source": [
    "utf8_path = DATA_DIR / \"utf8_file.csv\"\n",
    "try:\n",
    "    df_utf8 = pd.read_csv(utf8_path, encoding=\"ascii\")\n",
    "    print(\"No errors!\")\n",
    "except Exception as e:\n",
    "    print(\"Error:\", e)"
   ]
  },
  {
   "cell_type": "code",
   "execution_count": 3,
   "id": "06f548a8",
   "metadata": {},
   "outputs": [
    {
     "data": {
      "text/html": [
       "<div>\n",
       "<style scoped>\n",
       "    .dataframe tbody tr th:only-of-type {\n",
       "        vertical-align: middle;\n",
       "    }\n",
       "\n",
       "    .dataframe tbody tr th {\n",
       "        vertical-align: top;\n",
       "    }\n",
       "\n",
       "    .dataframe thead th {\n",
       "        text-align: right;\n",
       "    }\n",
       "</style>\n",
       "<table border=\"1\" class=\"dataframe\">\n",
       "  <thead>\n",
       "    <tr style=\"text-align: right;\">\n",
       "      <th></th>\n",
       "      <th>id</th>\n",
       "      <th>word</th>\n",
       "      <th>note</th>\n",
       "    </tr>\n",
       "  </thead>\n",
       "  <tbody>\n",
       "    <tr>\n",
       "      <th>0</th>\n",
       "      <td>1</td>\n",
       "      <td>café</td>\n",
       "      <td>UTF-8 sample</td>\n",
       "    </tr>\n",
       "    <tr>\n",
       "      <th>1</th>\n",
       "      <td>2</td>\n",
       "      <td>jalapeño</td>\n",
       "      <td>contains accent</td>\n",
       "    </tr>\n",
       "    <tr>\n",
       "      <th>2</th>\n",
       "      <td>3</td>\n",
       "      <td>北京</td>\n",
       "      <td>Chinese chars</td>\n",
       "    </tr>\n",
       "  </tbody>\n",
       "</table>\n",
       "</div>"
      ],
      "text/plain": [
       "   id      word             note\n",
       "0   1      café     UTF-8 sample\n",
       "1   2  jalapeño  contains accent\n",
       "2   3        北京    Chinese chars"
      ]
     },
     "execution_count": 3,
     "metadata": {},
     "output_type": "execute_result"
    }
   ],
   "source": [
    "df_utf8 = pd.read_csv(utf8_path, encoding=\"utf-8\")\n",
    "df_utf8"
   ]
  },
  {
   "cell_type": "code",
   "execution_count": 4,
   "id": "5a705008",
   "metadata": {},
   "outputs": [
    {
     "name": "stdout",
     "output_type": "stream",
     "text": [
      "Error: 'utf-8' codec can't decode byte 0xfc in position 19: invalid start byte\n"
     ]
    }
   ],
   "source": [
    "latin1_path = DATA_DIR / \"latin1_file.csv\"\n",
    "try:\n",
    "    df_latin1 = pd.read_csv(latin1_path)\n",
    "    print(\"No errors!\")\n",
    "except UnicodeDecodeError as e:\n",
    "    print(\"Error:\", e)"
   ]
  },
  {
   "cell_type": "code",
   "execution_count": 5,
   "id": "65bfcdad",
   "metadata": {},
   "outputs": [
    {
     "data": {
      "text/html": [
       "<div>\n",
       "<style scoped>\n",
       "    .dataframe tbody tr th:only-of-type {\n",
       "        vertical-align: middle;\n",
       "    }\n",
       "\n",
       "    .dataframe tbody tr th {\n",
       "        vertical-align: top;\n",
       "    }\n",
       "\n",
       "    .dataframe thead th {\n",
       "        text-align: right;\n",
       "    }\n",
       "</style>\n",
       "<table border=\"1\" class=\"dataframe\">\n",
       "  <thead>\n",
       "    <tr style=\"text-align: right;\">\n",
       "      <th></th>\n",
       "      <th>id</th>\n",
       "      <th>city</th>\n",
       "      <th>comment</th>\n",
       "    </tr>\n",
       "  </thead>\n",
       "  <tbody>\n",
       "    <tr>\n",
       "      <th>0</th>\n",
       "      <td>1</td>\n",
       "      <td>Zürich</td>\n",
       "      <td>naïve use</td>\n",
       "    </tr>\n",
       "    <tr>\n",
       "      <th>1</th>\n",
       "      <td>2</td>\n",
       "      <td>Málaga</td>\n",
       "      <td>piñata</td>\n",
       "    </tr>\n",
       "    <tr>\n",
       "      <th>2</th>\n",
       "      <td>3</td>\n",
       "      <td>São Paulo</td>\n",
       "      <td>façade</td>\n",
       "    </tr>\n",
       "  </tbody>\n",
       "</table>\n",
       "</div>"
      ],
      "text/plain": [
       "   id       city    comment\n",
       "0   1     Zürich  naïve use\n",
       "1   2     Málaga     piñata\n",
       "2   3  São Paulo     façade"
      ]
     },
     "execution_count": 5,
     "metadata": {},
     "output_type": "execute_result"
    }
   ],
   "source": [
    "df_latin1 = pd.read_csv(latin1_path, encoding=\"latin1\")\n",
    "df_latin1"
   ]
  },
  {
   "cell_type": "markdown",
   "id": "0bd5c2c4",
   "metadata": {},
   "source": [
    "## 2. Malformed CSV Rows"
   ]
  },
  {
   "cell_type": "code",
   "execution_count": 6,
   "id": "d7e9b986",
   "metadata": {},
   "outputs": [
    {
     "name": "stdout",
     "output_type": "stream",
     "text": [
      "Error: Error tokenizing data. C error: Expected 3 fields in line 3, saw 4\n",
      "\n"
     ]
    }
   ],
   "source": [
    "broken_path = DATA_DIR / \"broken_rows.csv\"\n",
    "try:\n",
    "    df_broken = pd.read_csv(broken_path)\n",
    "    print(\"No errors!\")\n",
    "except Exception as e:\n",
    "    print(\"Error:\", e)"
   ]
  },
  {
   "cell_type": "code",
   "execution_count": 7,
   "id": "6cd10996",
   "metadata": {},
   "outputs": [
    {
     "name": "stdout",
     "output_type": "stream",
     "text": [
      "id,name,amount\n",
      "1,Alice,10.5\n",
      "2,Bob,9.25,EXTRA\n",
      "3,\"Charlie, Jr.\",7.10\n",
      "4,Donna\n",
      "5,\"Eve says \"\"hello\"\"\",12.00\n"
     ]
    }
   ],
   "source": [
    "! head data/broken_rows.csv"
   ]
  },
  {
   "cell_type": "code",
   "execution_count": 8,
   "id": "828c5540",
   "metadata": {},
   "outputs": [
    {
     "name": "stdout",
     "output_type": "stream",
     "text": [
      "      1 Row count is: 2\n",
      "      3 Row count is: 3\n",
      "      2 Row count is: 4\n"
     ]
    }
   ],
   "source": [
    "! awk -F\",\" '{print \"Row count is: \" NF}' data/broken_rows.csv | sort | uniq -c"
   ]
  },
  {
   "cell_type": "code",
   "execution_count": 9,
   "id": "e0f4e047",
   "metadata": {},
   "outputs": [
    {
     "data": {
      "text/plain": [
       "[(1, 'id,name,amount', 2),\n",
       " (2, '1,Alice,10.5', 2),\n",
       " (3, '2,Bob,9.25,EXTRA', 3),\n",
       " (4, '3,\"Charlie, Jr.\",7.10', 3),\n",
       " (5, '4,Donna', 1),\n",
       " (6, '5,\"Eve says \"\"hello\"\"\",12.00', 2)]"
      ]
     },
     "execution_count": 9,
     "metadata": {},
     "output_type": "execute_result"
    }
   ],
   "source": [
    "lines = open(broken_path).read().splitlines()\n",
    "[(i+1, line, line.count(',')) for i, line in enumerate(lines)]"
   ]
  },
  {
   "cell_type": "code",
   "execution_count": 10,
   "id": "ab8986fb",
   "metadata": {},
   "outputs": [
    {
     "data": {
      "text/plain": [
       "Counter({2: 3, 3: 2, 1: 1})"
      ]
     },
     "execution_count": 10,
     "metadata": {},
     "output_type": "execute_result"
    }
   ],
   "source": [
    "from collections import Counter\n",
    "Counter([line.count(',') for line in open(broken_path)])"
   ]
  },
  {
   "cell_type": "code",
   "execution_count": 11,
   "id": "abb2b894",
   "metadata": {},
   "outputs": [
    {
     "data": {
      "text/html": [
       "<div>\n",
       "<style scoped>\n",
       "    .dataframe tbody tr th:only-of-type {\n",
       "        vertical-align: middle;\n",
       "    }\n",
       "\n",
       "    .dataframe tbody tr th {\n",
       "        vertical-align: top;\n",
       "    }\n",
       "\n",
       "    .dataframe thead th {\n",
       "        text-align: right;\n",
       "    }\n",
       "</style>\n",
       "<table border=\"1\" class=\"dataframe\">\n",
       "  <thead>\n",
       "    <tr style=\"text-align: right;\">\n",
       "      <th></th>\n",
       "      <th>id</th>\n",
       "      <th>name</th>\n",
       "      <th>amount</th>\n",
       "    </tr>\n",
       "  </thead>\n",
       "  <tbody>\n",
       "    <tr>\n",
       "      <th>0</th>\n",
       "      <td>1</td>\n",
       "      <td>Alice</td>\n",
       "      <td>10.5</td>\n",
       "    </tr>\n",
       "    <tr>\n",
       "      <th>1</th>\n",
       "      <td>3</td>\n",
       "      <td>Charlie, Jr.</td>\n",
       "      <td>7.1</td>\n",
       "    </tr>\n",
       "    <tr>\n",
       "      <th>2</th>\n",
       "      <td>4</td>\n",
       "      <td>Donna</td>\n",
       "      <td>NaN</td>\n",
       "    </tr>\n",
       "    <tr>\n",
       "      <th>3</th>\n",
       "      <td>5</td>\n",
       "      <td>Eve says \"hello\"</td>\n",
       "      <td>12.0</td>\n",
       "    </tr>\n",
       "  </tbody>\n",
       "</table>\n",
       "</div>"
      ],
      "text/plain": [
       "   id              name  amount\n",
       "0   1             Alice    10.5\n",
       "1   3      Charlie, Jr.     7.1\n",
       "2   4             Donna     NaN\n",
       "3   5  Eve says \"hello\"    12.0"
      ]
     },
     "execution_count": 11,
     "metadata": {},
     "output_type": "execute_result"
    }
   ],
   "source": [
    "df_fixed = pd.read_csv(broken_path, on_bad_lines=\"skip\")\n",
    "df_fixed"
   ]
  },
  {
   "cell_type": "markdown",
   "id": "647d43b9",
   "metadata": {},
   "source": [
    "## 3. Excel Pitfalls"
   ]
  },
  {
   "cell_type": "code",
   "execution_count": 12,
   "id": "887d2bcb",
   "metadata": {},
   "outputs": [
    {
     "data": {
      "text/plain": [
       "['Quarterly', 'Notes']"
      ]
     },
     "execution_count": 12,
     "metadata": {},
     "output_type": "execute_result"
    }
   ],
   "source": [
    "xls_path = DATA_DIR / \"messy_excel.xlsx\"\n",
    "xe = pd.ExcelFile(xls_path)\n",
    "xe.sheet_names"
   ]
  },
  {
   "cell_type": "code",
   "execution_count": 13,
   "id": "b09faa1e",
   "metadata": {},
   "outputs": [
    {
     "data": {
      "text/html": [
       "<div>\n",
       "<style scoped>\n",
       "    .dataframe tbody tr th:only-of-type {\n",
       "        vertical-align: middle;\n",
       "    }\n",
       "\n",
       "    .dataframe tbody tr th {\n",
       "        vertical-align: top;\n",
       "    }\n",
       "\n",
       "    .dataframe thead th {\n",
       "        text-align: right;\n",
       "    }\n",
       "</style>\n",
       "<table border=\"1\" class=\"dataframe\">\n",
       "  <thead>\n",
       "    <tr style=\"text-align: right;\">\n",
       "      <th></th>\n",
       "      <th>Sales</th>\n",
       "      <th>Unnamed: 1</th>\n",
       "      <th>Unnamed: 2</th>\n",
       "      <th>city</th>\n",
       "      <th>Unnamed: 4</th>\n",
       "      <th>Unnamed: 5</th>\n",
       "      <th>Unnamed: 6</th>\n",
       "    </tr>\n",
       "  </thead>\n",
       "  <tbody>\n",
       "    <tr>\n",
       "      <th>0</th>\n",
       "      <td>Q1</td>\n",
       "      <td>Q2</td>\n",
       "      <td>Q3</td>\n",
       "      <td>MÃ¡laga</td>\n",
       "      <td>SÃ£o Paulo</td>\n",
       "      <td>ZÃ¼rich</td>\n",
       "      <td>naÃ¯ve</td>\n",
       "    </tr>\n",
       "    <tr>\n",
       "      <th>1</th>\n",
       "      <td>120.5</td>\n",
       "      <td>130</td>\n",
       "      <td>125.25</td>\n",
       "      <td>NaN</td>\n",
       "      <td>NaN</td>\n",
       "      <td>NaN</td>\n",
       "      <td>NaN</td>\n",
       "    </tr>\n",
       "    <tr>\n",
       "      <th>2</th>\n",
       "      <td>95</td>\n",
       "      <td>NaN</td>\n",
       "      <td>110</td>\n",
       "      <td>NaN</td>\n",
       "      <td>NaN</td>\n",
       "      <td>NaN</td>\n",
       "      <td>NaN</td>\n",
       "    </tr>\n",
       "    <tr>\n",
       "      <th>3</th>\n",
       "      <td>88</td>\n",
       "      <td>92.5</td>\n",
       "      <td>NaN</td>\n",
       "      <td>NaN</td>\n",
       "      <td>NaN</td>\n",
       "      <td>NaN</td>\n",
       "      <td>NaN</td>\n",
       "    </tr>\n",
       "    <tr>\n",
       "      <th>4</th>\n",
       "      <td>101</td>\n",
       "      <td>error</td>\n",
       "      <td>NaN</td>\n",
       "      <td>NaN</td>\n",
       "      <td>NaN</td>\n",
       "      <td>NaN</td>\n",
       "      <td>NaN</td>\n",
       "    </tr>\n",
       "    <tr>\n",
       "      <th>5</th>\n",
       "      <td>NaN</td>\n",
       "      <td>NaN</td>\n",
       "      <td>NaN</td>\n",
       "      <td>NaN</td>\n",
       "      <td>NaN</td>\n",
       "      <td>NaN</td>\n",
       "      <td>NaN</td>\n",
       "    </tr>\n",
       "    <tr>\n",
       "      <th>6</th>\n",
       "      <td>Report total</td>\n",
       "      <td>NaN</td>\n",
       "      <td>NaN</td>\n",
       "      <td>NaN</td>\n",
       "      <td>NaN</td>\n",
       "      <td>NaN</td>\n",
       "      <td>NaN</td>\n",
       "    </tr>\n",
       "  </tbody>\n",
       "</table>\n",
       "</div>"
      ],
      "text/plain": [
       "          Sales Unnamed: 1 Unnamed: 2     city  Unnamed: 4 Unnamed: 5  \\\n",
       "0            Q1         Q2         Q3  MÃ¡laga  SÃ£o Paulo    ZÃ¼rich   \n",
       "1         120.5        130     125.25      NaN         NaN        NaN   \n",
       "2            95        NaN        110      NaN         NaN        NaN   \n",
       "3            88       92.5        NaN      NaN         NaN        NaN   \n",
       "4           101      error        NaN      NaN         NaN        NaN   \n",
       "5           NaN        NaN        NaN      NaN         NaN        NaN   \n",
       "6  Report total        NaN        NaN      NaN         NaN        NaN   \n",
       "\n",
       "  Unnamed: 6  \n",
       "0     naÃ¯ve  \n",
       "1        NaN  \n",
       "2        NaN  \n",
       "3        NaN  \n",
       "4        NaN  \n",
       "5        NaN  \n",
       "6        NaN  "
      ]
     },
     "execution_count": 13,
     "metadata": {},
     "output_type": "execute_result"
    }
   ],
   "source": [
    "df_quarterly = xe.parse(\"Quarterly\")\n",
    "df_quarterly"
   ]
  },
  {
   "cell_type": "code",
   "execution_count": 14,
   "id": "3fa5db02",
   "metadata": {},
   "outputs": [
    {
     "data": {
      "text/html": [
       "<div>\n",
       "<style scoped>\n",
       "    .dataframe tbody tr th:only-of-type {\n",
       "        vertical-align: middle;\n",
       "    }\n",
       "\n",
       "    .dataframe tbody tr th {\n",
       "        vertical-align: top;\n",
       "    }\n",
       "\n",
       "    .dataframe thead th {\n",
       "        text-align: right;\n",
       "    }\n",
       "</style>\n",
       "<table border=\"1\" class=\"dataframe\">\n",
       "  <thead>\n",
       "    <tr style=\"text-align: right;\">\n",
       "      <th></th>\n",
       "      <th>Q1</th>\n",
       "      <th>Q2</th>\n",
       "      <th>Q3</th>\n",
       "      <th>MÃ¡laga</th>\n",
       "      <th>SÃ£o Paulo</th>\n",
       "      <th>ZÃ¼rich</th>\n",
       "      <th>naÃ¯ve</th>\n",
       "    </tr>\n",
       "  </thead>\n",
       "  <tbody>\n",
       "    <tr>\n",
       "      <th>0</th>\n",
       "      <td>120.5</td>\n",
       "      <td>130</td>\n",
       "      <td>125.25</td>\n",
       "      <td>NaN</td>\n",
       "      <td>NaN</td>\n",
       "      <td>NaN</td>\n",
       "      <td>NaN</td>\n",
       "    </tr>\n",
       "    <tr>\n",
       "      <th>1</th>\n",
       "      <td>95</td>\n",
       "      <td>NaN</td>\n",
       "      <td>110.00</td>\n",
       "      <td>NaN</td>\n",
       "      <td>NaN</td>\n",
       "      <td>NaN</td>\n",
       "      <td>NaN</td>\n",
       "    </tr>\n",
       "    <tr>\n",
       "      <th>2</th>\n",
       "      <td>88</td>\n",
       "      <td>92.5</td>\n",
       "      <td>NaN</td>\n",
       "      <td>NaN</td>\n",
       "      <td>NaN</td>\n",
       "      <td>NaN</td>\n",
       "      <td>NaN</td>\n",
       "    </tr>\n",
       "    <tr>\n",
       "      <th>3</th>\n",
       "      <td>101</td>\n",
       "      <td>error</td>\n",
       "      <td>NaN</td>\n",
       "      <td>NaN</td>\n",
       "      <td>NaN</td>\n",
       "      <td>NaN</td>\n",
       "      <td>NaN</td>\n",
       "    </tr>\n",
       "    <tr>\n",
       "      <th>4</th>\n",
       "      <td>NaN</td>\n",
       "      <td>NaN</td>\n",
       "      <td>NaN</td>\n",
       "      <td>NaN</td>\n",
       "      <td>NaN</td>\n",
       "      <td>NaN</td>\n",
       "      <td>NaN</td>\n",
       "    </tr>\n",
       "    <tr>\n",
       "      <th>5</th>\n",
       "      <td>Report total</td>\n",
       "      <td>NaN</td>\n",
       "      <td>NaN</td>\n",
       "      <td>NaN</td>\n",
       "      <td>NaN</td>\n",
       "      <td>NaN</td>\n",
       "      <td>NaN</td>\n",
       "    </tr>\n",
       "  </tbody>\n",
       "</table>\n",
       "</div>"
      ],
      "text/plain": [
       "             Q1     Q2      Q3  MÃ¡laga  SÃ£o Paulo  ZÃ¼rich  naÃ¯ve\n",
       "0         120.5    130  125.25      NaN         NaN      NaN     NaN\n",
       "1            95    NaN  110.00      NaN         NaN      NaN     NaN\n",
       "2            88   92.5     NaN      NaN         NaN      NaN     NaN\n",
       "3           101  error     NaN      NaN         NaN      NaN     NaN\n",
       "4           NaN    NaN     NaN      NaN         NaN      NaN     NaN\n",
       "5  Report total    NaN     NaN      NaN         NaN      NaN     NaN"
      ]
     },
     "execution_count": 14,
     "metadata": {},
     "output_type": "execute_result"
    }
   ],
   "source": [
    "df_quarterly = xe.parse(\"Quarterly\", header=1)\n",
    "df_quarterly"
   ]
  },
  {
   "cell_type": "code",
   "execution_count": 15,
   "id": "ef80692a",
   "metadata": {},
   "outputs": [
    {
     "data": {
      "text/html": [
       "<div>\n",
       "<style scoped>\n",
       "    .dataframe tbody tr th:only-of-type {\n",
       "        vertical-align: middle;\n",
       "    }\n",
       "\n",
       "    .dataframe tbody tr th {\n",
       "        vertical-align: top;\n",
       "    }\n",
       "\n",
       "    .dataframe thead th {\n",
       "        text-align: right;\n",
       "    }\n",
       "</style>\n",
       "<table border=\"1\" class=\"dataframe\">\n",
       "  <thead>\n",
       "    <tr style=\"text-align: right;\">\n",
       "      <th></th>\n",
       "      <th>Q1</th>\n",
       "      <th>Q2</th>\n",
       "      <th>Q3</th>\n",
       "      <th>MÃ¡laga</th>\n",
       "      <th>SÃ£o Paulo</th>\n",
       "      <th>ZÃ¼rich</th>\n",
       "      <th>naÃ¯ve</th>\n",
       "    </tr>\n",
       "  </thead>\n",
       "  <tbody>\n",
       "    <tr>\n",
       "      <th>0</th>\n",
       "      <td>120.5</td>\n",
       "      <td>130</td>\n",
       "      <td>125.25</td>\n",
       "      <td>NaN</td>\n",
       "      <td>NaN</td>\n",
       "      <td>NaN</td>\n",
       "      <td>NaN</td>\n",
       "    </tr>\n",
       "    <tr>\n",
       "      <th>1</th>\n",
       "      <td>95</td>\n",
       "      <td>NaN</td>\n",
       "      <td>110.00</td>\n",
       "      <td>NaN</td>\n",
       "      <td>NaN</td>\n",
       "      <td>NaN</td>\n",
       "      <td>NaN</td>\n",
       "    </tr>\n",
       "    <tr>\n",
       "      <th>2</th>\n",
       "      <td>88</td>\n",
       "      <td>92.5</td>\n",
       "      <td>NaN</td>\n",
       "      <td>NaN</td>\n",
       "      <td>NaN</td>\n",
       "      <td>NaN</td>\n",
       "      <td>NaN</td>\n",
       "    </tr>\n",
       "    <tr>\n",
       "      <th>3</th>\n",
       "      <td>101</td>\n",
       "      <td>error</td>\n",
       "      <td>NaN</td>\n",
       "      <td>NaN</td>\n",
       "      <td>NaN</td>\n",
       "      <td>NaN</td>\n",
       "      <td>NaN</td>\n",
       "    </tr>\n",
       "    <tr>\n",
       "      <th>5</th>\n",
       "      <td>Report total</td>\n",
       "      <td>NaN</td>\n",
       "      <td>NaN</td>\n",
       "      <td>NaN</td>\n",
       "      <td>NaN</td>\n",
       "      <td>NaN</td>\n",
       "      <td>NaN</td>\n",
       "    </tr>\n",
       "  </tbody>\n",
       "</table>\n",
       "</div>"
      ],
      "text/plain": [
       "             Q1     Q2      Q3  MÃ¡laga  SÃ£o Paulo  ZÃ¼rich  naÃ¯ve\n",
       "0         120.5    130  125.25      NaN         NaN      NaN     NaN\n",
       "1            95    NaN  110.00      NaN         NaN      NaN     NaN\n",
       "2            88   92.5     NaN      NaN         NaN      NaN     NaN\n",
       "3           101  error     NaN      NaN         NaN      NaN     NaN\n",
       "5  Report total    NaN     NaN      NaN         NaN      NaN     NaN"
      ]
     },
     "execution_count": 15,
     "metadata": {},
     "output_type": "execute_result"
    }
   ],
   "source": [
    "# drop fully empty rows\n",
    "df_quarterly = df_quarterly.dropna(how=\"all\")\n",
    "df_quarterly"
   ]
  },
  {
   "cell_type": "code",
   "execution_count": 16,
   "id": "eb8f7baa",
   "metadata": {},
   "outputs": [
    {
     "data": {
      "text/html": [
       "<div>\n",
       "<style scoped>\n",
       "    .dataframe tbody tr th:only-of-type {\n",
       "        vertical-align: middle;\n",
       "    }\n",
       "\n",
       "    .dataframe tbody tr th {\n",
       "        vertical-align: top;\n",
       "    }\n",
       "\n",
       "    .dataframe thead th {\n",
       "        text-align: right;\n",
       "    }\n",
       "</style>\n",
       "<table border=\"1\" class=\"dataframe\">\n",
       "  <thead>\n",
       "    <tr style=\"text-align: right;\">\n",
       "      <th></th>\n",
       "      <th>Q1</th>\n",
       "      <th>Q2</th>\n",
       "      <th>Q3</th>\n",
       "      <th>MÃ¡laga</th>\n",
       "      <th>SÃ£o Paulo</th>\n",
       "      <th>ZÃ¼rich</th>\n",
       "      <th>naÃ¯ve</th>\n",
       "    </tr>\n",
       "  </thead>\n",
       "  <tbody>\n",
       "    <tr>\n",
       "      <th>0</th>\n",
       "      <td>120.5</td>\n",
       "      <td>130</td>\n",
       "      <td>125.25</td>\n",
       "      <td>NaN</td>\n",
       "      <td>NaN</td>\n",
       "      <td>NaN</td>\n",
       "      <td>NaN</td>\n",
       "    </tr>\n",
       "    <tr>\n",
       "      <th>1</th>\n",
       "      <td>95</td>\n",
       "      <td>NaN</td>\n",
       "      <td>110.00</td>\n",
       "      <td>NaN</td>\n",
       "      <td>NaN</td>\n",
       "      <td>NaN</td>\n",
       "      <td>NaN</td>\n",
       "    </tr>\n",
       "    <tr>\n",
       "      <th>2</th>\n",
       "      <td>88</td>\n",
       "      <td>92.5</td>\n",
       "      <td>NaN</td>\n",
       "      <td>NaN</td>\n",
       "      <td>NaN</td>\n",
       "      <td>NaN</td>\n",
       "      <td>NaN</td>\n",
       "    </tr>\n",
       "    <tr>\n",
       "      <th>3</th>\n",
       "      <td>101</td>\n",
       "      <td>error</td>\n",
       "      <td>NaN</td>\n",
       "      <td>NaN</td>\n",
       "      <td>NaN</td>\n",
       "      <td>NaN</td>\n",
       "      <td>NaN</td>\n",
       "    </tr>\n",
       "  </tbody>\n",
       "</table>\n",
       "</div>"
      ],
      "text/plain": [
       "      Q1     Q2      Q3  MÃ¡laga  SÃ£o Paulo  ZÃ¼rich  naÃ¯ve\n",
       "0  120.5    130  125.25      NaN         NaN      NaN     NaN\n",
       "1     95    NaN  110.00      NaN         NaN      NaN     NaN\n",
       "2     88   92.5     NaN      NaN         NaN      NaN     NaN\n",
       "3    101  error     NaN      NaN         NaN      NaN     NaN"
      ]
     },
     "execution_count": 16,
     "metadata": {},
     "output_type": "execute_result"
    }
   ],
   "source": [
    "# drop the trailing \"Report total\" row (match anywhere in the row)\n",
    "mask_footer = df_quarterly.astype(str).apply(\n",
    "    lambda r: r.str.strip().str.lower().eq(\"report total\").any(), axis=1\n",
    ")\n",
    "df_quarterly = df_quarterly[~mask_footer].copy()\n",
    "df_quarterly"
   ]
  },
  {
   "cell_type": "code",
   "execution_count": 17,
   "id": "1a28d61d",
   "metadata": {},
   "outputs": [
    {
     "data": {
      "text/html": [
       "<div>\n",
       "<style scoped>\n",
       "    .dataframe tbody tr th:only-of-type {\n",
       "        vertical-align: middle;\n",
       "    }\n",
       "\n",
       "    .dataframe tbody tr th {\n",
       "        vertical-align: top;\n",
       "    }\n",
       "\n",
       "    .dataframe thead th {\n",
       "        text-align: right;\n",
       "    }\n",
       "</style>\n",
       "<table border=\"1\" class=\"dataframe\">\n",
       "  <thead>\n",
       "    <tr style=\"text-align: right;\">\n",
       "      <th></th>\n",
       "      <th>Q1</th>\n",
       "      <th>Q2</th>\n",
       "      <th>Q3</th>\n",
       "      <th>MÃ¡laga</th>\n",
       "      <th>SÃ£o Paulo</th>\n",
       "      <th>ZÃ¼rich</th>\n",
       "      <th>naÃ¯ve</th>\n",
       "    </tr>\n",
       "  </thead>\n",
       "  <tbody>\n",
       "    <tr>\n",
       "      <th>0</th>\n",
       "      <td>120.5</td>\n",
       "      <td>130.0</td>\n",
       "      <td>125.25</td>\n",
       "      <td>NaN</td>\n",
       "      <td>NaN</td>\n",
       "      <td>NaN</td>\n",
       "      <td>NaN</td>\n",
       "    </tr>\n",
       "    <tr>\n",
       "      <th>1</th>\n",
       "      <td>95.0</td>\n",
       "      <td>NaN</td>\n",
       "      <td>110.00</td>\n",
       "      <td>NaN</td>\n",
       "      <td>NaN</td>\n",
       "      <td>NaN</td>\n",
       "      <td>NaN</td>\n",
       "    </tr>\n",
       "    <tr>\n",
       "      <th>2</th>\n",
       "      <td>88.0</td>\n",
       "      <td>92.5</td>\n",
       "      <td>NaN</td>\n",
       "      <td>NaN</td>\n",
       "      <td>NaN</td>\n",
       "      <td>NaN</td>\n",
       "      <td>NaN</td>\n",
       "    </tr>\n",
       "    <tr>\n",
       "      <th>3</th>\n",
       "      <td>101.0</td>\n",
       "      <td>NaN</td>\n",
       "      <td>NaN</td>\n",
       "      <td>NaN</td>\n",
       "      <td>NaN</td>\n",
       "      <td>NaN</td>\n",
       "      <td>NaN</td>\n",
       "    </tr>\n",
       "  </tbody>\n",
       "</table>\n",
       "</div>"
      ],
      "text/plain": [
       "      Q1     Q2      Q3  MÃ¡laga  SÃ£o Paulo  ZÃ¼rich  naÃ¯ve\n",
       "0  120.5  130.0  125.25      NaN         NaN      NaN     NaN\n",
       "1   95.0    NaN  110.00      NaN         NaN      NaN     NaN\n",
       "2   88.0   92.5     NaN      NaN         NaN      NaN     NaN\n",
       "3  101.0    NaN     NaN      NaN         NaN      NaN     NaN"
      ]
     },
     "execution_count": 17,
     "metadata": {},
     "output_type": "execute_result"
    }
   ],
   "source": [
    "for col in df_quarterly.columns[:3]:\n",
    "    df_quarterly[col] = pd.to_numeric(df_quarterly[col], errors=\"coerce\")\n",
    "\n",
    "df_quarterly"
   ]
  },
  {
   "cell_type": "code",
   "execution_count": 18,
   "id": "050259f8",
   "metadata": {},
   "outputs": [
    {
     "data": {
      "text/html": [
       "<div>\n",
       "<style scoped>\n",
       "    .dataframe tbody tr th:only-of-type {\n",
       "        vertical-align: middle;\n",
       "    }\n",
       "\n",
       "    .dataframe tbody tr th {\n",
       "        vertical-align: top;\n",
       "    }\n",
       "\n",
       "    .dataframe thead th {\n",
       "        text-align: right;\n",
       "    }\n",
       "</style>\n",
       "<table border=\"1\" class=\"dataframe\">\n",
       "  <thead>\n",
       "    <tr style=\"text-align: right;\">\n",
       "      <th></th>\n",
       "      <th>Q1</th>\n",
       "      <th>Q2</th>\n",
       "      <th>Q3</th>\n",
       "      <th>city</th>\n",
       "    </tr>\n",
       "  </thead>\n",
       "  <tbody>\n",
       "    <tr>\n",
       "      <th>0</th>\n",
       "      <td>120.5</td>\n",
       "      <td>130.0</td>\n",
       "      <td>125.25</td>\n",
       "      <td>MÃ¡laga</td>\n",
       "    </tr>\n",
       "    <tr>\n",
       "      <th>1</th>\n",
       "      <td>95.0</td>\n",
       "      <td>NaN</td>\n",
       "      <td>110.00</td>\n",
       "      <td>SÃ£o Paulo</td>\n",
       "    </tr>\n",
       "    <tr>\n",
       "      <th>2</th>\n",
       "      <td>88.0</td>\n",
       "      <td>92.5</td>\n",
       "      <td>NaN</td>\n",
       "      <td>ZÃ¼rich</td>\n",
       "    </tr>\n",
       "    <tr>\n",
       "      <th>3</th>\n",
       "      <td>101.0</td>\n",
       "      <td>NaN</td>\n",
       "      <td>NaN</td>\n",
       "      <td>naÃ¯ve</td>\n",
       "    </tr>\n",
       "  </tbody>\n",
       "</table>\n",
       "</div>"
      ],
      "text/plain": [
       "      Q1     Q2      Q3        city\n",
       "0  120.5  130.0  125.25     MÃ¡laga\n",
       "1   95.0    NaN  110.00  SÃ£o Paulo\n",
       "2   88.0   92.5     NaN     ZÃ¼rich\n",
       "3  101.0    NaN     NaN      naÃ¯ve"
      ]
     },
     "execution_count": 18,
     "metadata": {},
     "output_type": "execute_result"
    }
   ],
   "source": [
    "# bad header names that should be a single column\n",
    "bad_cols = list(df_quarterly.columns[3:])\n",
    "\n",
    "# align those names to rows (truncate/exact match in length)\n",
    "cities = bad_cols[:len(df_quarterly)]\n",
    "\n",
    "# attach as a proper column\n",
    "df_quarterly.loc[:, \"city\"] = pd.Series(cities, index=df_quarterly.index)\n",
    "\n",
    "# drop the bogus all-NaN columns\n",
    "df_quarterly = df_quarterly.drop(columns=bad_cols)\n",
    "\n",
    "df_quarterly\n",
    " "
   ]
  },
  {
   "cell_type": "code",
   "execution_count": 19,
   "id": "55cdf545",
   "metadata": {},
   "outputs": [
    {
     "data": {
      "text/html": [
       "<div>\n",
       "<style scoped>\n",
       "    .dataframe tbody tr th:only-of-type {\n",
       "        vertical-align: middle;\n",
       "    }\n",
       "\n",
       "    .dataframe tbody tr th {\n",
       "        vertical-align: top;\n",
       "    }\n",
       "\n",
       "    .dataframe thead th {\n",
       "        text-align: right;\n",
       "    }\n",
       "</style>\n",
       "<table border=\"1\" class=\"dataframe\">\n",
       "  <thead>\n",
       "    <tr style=\"text-align: right;\">\n",
       "      <th></th>\n",
       "      <th>Q1</th>\n",
       "      <th>Q2</th>\n",
       "      <th>Q3</th>\n",
       "      <th>city</th>\n",
       "    </tr>\n",
       "  </thead>\n",
       "  <tbody>\n",
       "    <tr>\n",
       "      <th>0</th>\n",
       "      <td>120.5</td>\n",
       "      <td>130.0</td>\n",
       "      <td>125.25</td>\n",
       "      <td>Málaga</td>\n",
       "    </tr>\n",
       "    <tr>\n",
       "      <th>1</th>\n",
       "      <td>95.0</td>\n",
       "      <td>NaN</td>\n",
       "      <td>110.00</td>\n",
       "      <td>São Paulo</td>\n",
       "    </tr>\n",
       "    <tr>\n",
       "      <th>2</th>\n",
       "      <td>88.0</td>\n",
       "      <td>92.5</td>\n",
       "      <td>NaN</td>\n",
       "      <td>Zürich</td>\n",
       "    </tr>\n",
       "    <tr>\n",
       "      <th>3</th>\n",
       "      <td>101.0</td>\n",
       "      <td>NaN</td>\n",
       "      <td>NaN</td>\n",
       "      <td>naïve</td>\n",
       "    </tr>\n",
       "  </tbody>\n",
       "</table>\n",
       "</div>"
      ],
      "text/plain": [
       "      Q1     Q2      Q3       city\n",
       "0  120.5  130.0  125.25     Málaga\n",
       "1   95.0    NaN  110.00  São Paulo\n",
       "2   88.0   92.5     NaN     Zürich\n",
       "3  101.0    NaN     NaN      naïve"
      ]
     },
     "execution_count": 19,
     "metadata": {},
     "output_type": "execute_result"
    }
   ],
   "source": [
    "df_quarterly[\"city\"] = (\n",
    "    df_quarterly[\"city\"]\n",
    "      .apply(lambda x: x.encode(\"latin1\", errors=\"ignore\").decode(\"utf-8\", errors=\"ignore\"))\n",
    "      .str.strip()\n",
    ")\n",
    "df_quarterly"
   ]
  }
 ],
 "metadata": {
  "kernelspec": {
   "display_name": "Python 3",
   "language": "python",
   "name": "python3"
  },
  "language_info": {
   "codemirror_mode": {
    "name": "ipython",
    "version": 3
   },
   "file_extension": ".py",
   "mimetype": "text/x-python",
   "name": "python",
   "nbconvert_exporter": "python",
   "pygments_lexer": "ipython3",
   "version": "3.12.1"
  }
 },
 "nbformat": 4,
 "nbformat_minor": 5
}
