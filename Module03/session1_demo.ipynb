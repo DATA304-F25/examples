{
 "cells": [
  {
   "cell_type": "markdown",
   "id": "748efd20",
   "metadata": {},
   "source": [
    "# DATA 304 – Module 3, Session 1 Demo\n",
    "Flat files, paths, CSV/Excel, compression, and large-file strategies."
   ]
  },
  {
   "cell_type": "markdown",
   "id": "e8700de1",
   "metadata": {},
   "source": [
    "## Raw strings"
   ]
  },
  {
   "cell_type": "code",
   "execution_count": 1,
   "id": "4ac45096",
   "metadata": {},
   "outputs": [
    {
     "ename": "SyntaxError",
     "evalue": "(unicode error) 'unicodeescape' codec can't decode bytes in position 2-3: truncated \\UXXXXXXXX escape (3055514616.py, line 1)",
     "output_type": "error",
     "traceback": [
      "  \u001b[36mCell\u001b[39m\u001b[36m \u001b[39m\u001b[32mIn[1]\u001b[39m\u001b[32m, line 1\u001b[39m\n\u001b[31m    \u001b[39m\u001b[31mmy_path = \"C:\\Users\\data\\file.cs\"\u001b[39m\n              ^\n\u001b[31mSyntaxError\u001b[39m\u001b[31m:\u001b[39m (unicode error) 'unicodeescape' codec can't decode bytes in position 2-3: truncated \\UXXXXXXXX escape\n"
     ]
    }
   ],
   "source": [
    "my_path = \"C:\\Users\\data\\file.cs\"\n",
    "print(my_path)"
   ]
  },
  {
   "cell_type": "code",
   "execution_count": 2,
   "id": "b1906c79",
   "metadata": {},
   "outputs": [
    {
     "name": "stdout",
     "output_type": "stream",
     "text": [
      "C:\\Users\\data\\file.cs\n"
     ]
    }
   ],
   "source": [
    "my_path_fixed = \"C:\\\\Users\\\\data\\\\file.cs\"\n",
    "print(my_path_fixed)"
   ]
  },
  {
   "cell_type": "code",
   "execution_count": 3,
   "id": "553aaf8b",
   "metadata": {},
   "outputs": [
    {
     "name": "stdout",
     "output_type": "stream",
     "text": [
      "C:\\Users\\data\\file.cs\n"
     ]
    }
   ],
   "source": [
    "my_path_raw = r\"C:\\Users\\data\\file.cs\"\n",
    "print(my_path_raw)"
   ]
  },
  {
   "cell_type": "markdown",
   "id": "fd2518ac",
   "metadata": {},
   "source": [
    "## Paths with `pathlib`\n",
    "- Use relative paths for portability\n",
    "- Avoid hard-coded OS-specific separators\n",
    "- Prefer `Path` arithmetic"
   ]
  },
  {
   "cell_type": "code",
   "execution_count": 4,
   "id": "88131017",
   "metadata": {},
   "outputs": [],
   "source": [
    "from pathlib import Path\n",
    "ROOT_DIR = Path(\"..\")\n",
    "CUR_DIR1 = ROOT_DIR / \"Module03\"\n",
    "CUR_DIR2 = Path(\".\")\n",
    "DATA_DIR = CUR_DIR1 / \"data\""
   ]
  },
  {
   "cell_type": "code",
   "execution_count": 5,
   "id": "be0c6611",
   "metadata": {},
   "outputs": [
    {
     "name": "stdout",
     "output_type": "stream",
     "text": [
      "Root directory is:\t ..\n",
      "Current directory is:\t ../Module03\n",
      "Current directory is:\t .\n",
      "Data directory is:\t ../Module03/data\n"
     ]
    }
   ],
   "source": [
    "print(\"Root directory is:\\t\", ROOT_DIR)\n",
    "print(\"Current directory is:\\t\", CUR_DIR1)\n",
    "print(\"Current directory is:\\t\", CUR_DIR2)\n",
    "print(\"Data directory is:\\t\", DATA_DIR)"
   ]
  },
  {
   "cell_type": "code",
   "execution_count": 6,
   "id": "f1e8fc63",
   "metadata": {},
   "outputs": [
    {
     "name": "stdout",
     "output_type": "stream",
     "text": [
      "<class 'pathlib.PosixPath'>\n",
      "<class 'pathlib.PosixPath'>\n",
      "<class 'pathlib.PosixPath'>\n",
      "<class 'pathlib.PosixPath'>\n"
     ]
    }
   ],
   "source": [
    "print(type(ROOT_DIR))\n",
    "print(type(CUR_DIR1))\n",
    "print(type(CUR_DIR2))\n",
    "print(type(DATA_DIR))"
   ]
  },
  {
   "cell_type": "code",
   "execution_count": 7,
   "id": "5455de09",
   "metadata": {},
   "outputs": [
    {
     "name": "stdout",
     "output_type": "stream",
     "text": [
      "Root directory is:\t /workspaces/examples\n",
      "Current directory is:\t /workspaces/examples/Module03\n",
      "Current directory is:\t /workspaces/examples/Module03\n",
      "Data directory is:\t /workspaces/examples/Module03/data\n"
     ]
    }
   ],
   "source": [
    "print(\"Root directory is:\\t\", ROOT_DIR.resolve())\n",
    "print(\"Current directory is:\\t\", CUR_DIR1.resolve())\n",
    "print(\"Current directory is:\\t\", CUR_DIR2.resolve())\n",
    "print(\"Data directory is:\\t\", DATA_DIR.resolve())"
   ]
  },
  {
   "cell_type": "code",
   "execution_count": 8,
   "id": "ad4d1473",
   "metadata": {},
   "outputs": [
    {
     "data": {
      "text/plain": [
       "[PosixPath('../Module03/session1_activity.ipynb'),\n",
       " PosixPath('../Module03/session2_demo.ipynb'),\n",
       " PosixPath('../Module03/data'),\n",
       " PosixPath('../Module03/session1_demo.ipynb'),\n",
       " PosixPath('../Module03/session2_activity.ipynb')]"
      ]
     },
     "execution_count": 8,
     "metadata": {},
     "output_type": "execute_result"
    }
   ],
   "source": [
    "# Inspect files\n",
    "list(CUR_DIR1.iterdir())"
   ]
  },
  {
   "cell_type": "markdown",
   "id": "b66949f5",
   "metadata": {},
   "source": [
    "## Reading a clean CSV"
   ]
  },
  {
   "cell_type": "code",
   "execution_count": 9,
   "id": "9406fef6",
   "metadata": {},
   "outputs": [
    {
     "data": {
      "text/html": [
       "<div>\n",
       "<style scoped>\n",
       "    .dataframe tbody tr th:only-of-type {\n",
       "        vertical-align: middle;\n",
       "    }\n",
       "\n",
       "    .dataframe tbody tr th {\n",
       "        vertical-align: top;\n",
       "    }\n",
       "\n",
       "    .dataframe thead th {\n",
       "        text-align: right;\n",
       "    }\n",
       "</style>\n",
       "<table border=\"1\" class=\"dataframe\">\n",
       "  <thead>\n",
       "    <tr style=\"text-align: right;\">\n",
       "      <th></th>\n",
       "      <th>order_id</th>\n",
       "      <th>city</th>\n",
       "      <th>amount</th>\n",
       "      <th>date</th>\n",
       "    </tr>\n",
       "  </thead>\n",
       "  <tbody>\n",
       "    <tr>\n",
       "      <th>0</th>\n",
       "      <td>1</td>\n",
       "      <td>Knoxville</td>\n",
       "      <td>19.99</td>\n",
       "      <td>2025-01-05</td>\n",
       "    </tr>\n",
       "    <tr>\n",
       "      <th>1</th>\n",
       "      <td>2</td>\n",
       "      <td>Nashville</td>\n",
       "      <td>5.25</td>\n",
       "      <td>2025-01-06</td>\n",
       "    </tr>\n",
       "    <tr>\n",
       "      <th>2</th>\n",
       "      <td>3</td>\n",
       "      <td>Memphis</td>\n",
       "      <td>8.75</td>\n",
       "      <td>2025-01-07</td>\n",
       "    </tr>\n",
       "    <tr>\n",
       "      <th>3</th>\n",
       "      <td>4</td>\n",
       "      <td>Chattanooga</td>\n",
       "      <td>12.40</td>\n",
       "      <td>2025-01-08</td>\n",
       "    </tr>\n",
       "    <tr>\n",
       "      <th>4</th>\n",
       "      <td>5</td>\n",
       "      <td>Knoxville</td>\n",
       "      <td>15.60</td>\n",
       "      <td>2025-01-09</td>\n",
       "    </tr>\n",
       "  </tbody>\n",
       "</table>\n",
       "</div>"
      ],
      "text/plain": [
       "   order_id         city  amount        date\n",
       "0         1    Knoxville   19.99  2025-01-05\n",
       "1         2    Nashville    5.25  2025-01-06\n",
       "2         3      Memphis    8.75  2025-01-07\n",
       "3         4  Chattanooga   12.40  2025-01-08\n",
       "4         5    Knoxville   15.60  2025-01-09"
      ]
     },
     "execution_count": 9,
     "metadata": {},
     "output_type": "execute_result"
    }
   ],
   "source": [
    "import pandas as pd\n",
    "clean_path = DATA_DIR / \"clean_sales.csv\"\n",
    "df_clean = pd.read_csv(clean_path)\n",
    "df_clean.head()"
   ]
  },
  {
   "cell_type": "code",
   "execution_count": 10,
   "id": "6099f9e4",
   "metadata": {},
   "outputs": [
    {
     "name": "stdout",
     "output_type": "stream",
     "text": [
      "<class 'pandas.core.frame.DataFrame'>\n",
      "RangeIndex: 5 entries, 0 to 4\n",
      "Data columns (total 4 columns):\n",
      " #   Column    Non-Null Count  Dtype  \n",
      "---  ------    --------------  -----  \n",
      " 0   order_id  5 non-null      int64  \n",
      " 1   city      5 non-null      object \n",
      " 2   amount    5 non-null      float64\n",
      " 3   date      5 non-null      object \n",
      "dtypes: float64(1), int64(1), object(2)\n",
      "memory usage: 292.0+ bytes\n"
     ]
    }
   ],
   "source": [
    "df_clean.info()"
   ]
  },
  {
   "cell_type": "markdown",
   "id": "e213007e",
   "metadata": {},
   "source": [
    "## CSV with semicolon delimiter and European decimals\n",
    "- Use `sep=';'`\n",
    "- Replace comma decimals and coerce to numeric\n",
    "- Map NA tokens"
   ]
  },
  {
   "cell_type": "code",
   "execution_count": 11,
   "id": "62bf656f",
   "metadata": {},
   "outputs": [
    {
     "data": {
      "text/html": [
       "<div>\n",
       "<style scoped>\n",
       "    .dataframe tbody tr th:only-of-type {\n",
       "        vertical-align: middle;\n",
       "    }\n",
       "\n",
       "    .dataframe tbody tr th {\n",
       "        vertical-align: top;\n",
       "    }\n",
       "\n",
       "    .dataframe thead th {\n",
       "        text-align: right;\n",
       "    }\n",
       "</style>\n",
       "<table border=\"1\" class=\"dataframe\">\n",
       "  <thead>\n",
       "    <tr style=\"text-align: right;\">\n",
       "      <th></th>\n",
       "      <th>order_id;city;amount;date</th>\n",
       "    </tr>\n",
       "  </thead>\n",
       "  <tbody>\n",
       "    <tr>\n",
       "      <th>1;Knoxville;19</th>\n",
       "      <td>99;2025-01-05</td>\n",
       "    </tr>\n",
       "    <tr>\n",
       "      <th>2;Nashville;NA;2025-01-06</th>\n",
       "      <td>NaN</td>\n",
       "    </tr>\n",
       "    <tr>\n",
       "      <th>3;Memphis;8</th>\n",
       "      <td>75;2025-01-07</td>\n",
       "    </tr>\n",
       "    <tr>\n",
       "      <th>4;Chattanooga;--;2025-01-08</th>\n",
       "      <td>NaN</td>\n",
       "    </tr>\n",
       "  </tbody>\n",
       "</table>\n",
       "</div>"
      ],
      "text/plain": [
       "                            order_id;city;amount;date\n",
       "1;Knoxville;19                          99;2025-01-05\n",
       "2;Nashville;NA;2025-01-06                         NaN\n",
       "3;Memphis;8                             75;2025-01-07\n",
       "4;Chattanooga;--;2025-01-08                       NaN"
      ]
     },
     "execution_count": 11,
     "metadata": {},
     "output_type": "execute_result"
    }
   ],
   "source": [
    "messy_path = DATA_DIR / \"messy_semicolon.csv\"\n",
    "df_messy = pd.read_csv(messy_path)\n",
    "df_messy.head()"
   ]
  },
  {
   "cell_type": "code",
   "execution_count": 12,
   "id": "65bd6c8c",
   "metadata": {},
   "outputs": [
    {
     "name": "stdout",
     "output_type": "stream",
     "text": [
      "order_id;city;amount;date\n",
      "1;Knoxville;19,99;2025-01-05\n",
      "2;Nashville;NA;2025-01-06\n",
      "3;Memphis;8,75;2025-01-07\n",
      "4;Chattanooga;--;2025-01-08\n"
     ]
    }
   ],
   "source": [
    "! head data/messy_semicolon.csv"
   ]
  },
  {
   "cell_type": "code",
   "execution_count": 13,
   "id": "4636cfd7",
   "metadata": {},
   "outputs": [
    {
     "data": {
      "text/html": [
       "<div>\n",
       "<style scoped>\n",
       "    .dataframe tbody tr th:only-of-type {\n",
       "        vertical-align: middle;\n",
       "    }\n",
       "\n",
       "    .dataframe tbody tr th {\n",
       "        vertical-align: top;\n",
       "    }\n",
       "\n",
       "    .dataframe thead th {\n",
       "        text-align: right;\n",
       "    }\n",
       "</style>\n",
       "<table border=\"1\" class=\"dataframe\">\n",
       "  <thead>\n",
       "    <tr style=\"text-align: right;\">\n",
       "      <th></th>\n",
       "      <th>order_id</th>\n",
       "      <th>city</th>\n",
       "      <th>amount</th>\n",
       "      <th>date</th>\n",
       "    </tr>\n",
       "  </thead>\n",
       "  <tbody>\n",
       "    <tr>\n",
       "      <th>0</th>\n",
       "      <td>1</td>\n",
       "      <td>Knoxville</td>\n",
       "      <td>19,99</td>\n",
       "      <td>2025-01-05</td>\n",
       "    </tr>\n",
       "    <tr>\n",
       "      <th>1</th>\n",
       "      <td>2</td>\n",
       "      <td>Nashville</td>\n",
       "      <td>NaN</td>\n",
       "      <td>2025-01-06</td>\n",
       "    </tr>\n",
       "    <tr>\n",
       "      <th>2</th>\n",
       "      <td>3</td>\n",
       "      <td>Memphis</td>\n",
       "      <td>8,75</td>\n",
       "      <td>2025-01-07</td>\n",
       "    </tr>\n",
       "    <tr>\n",
       "      <th>3</th>\n",
       "      <td>4</td>\n",
       "      <td>Chattanooga</td>\n",
       "      <td>NaN</td>\n",
       "      <td>2025-01-08</td>\n",
       "    </tr>\n",
       "  </tbody>\n",
       "</table>\n",
       "</div>"
      ],
      "text/plain": [
       "   order_id         city amount        date\n",
       "0         1    Knoxville  19,99  2025-01-05\n",
       "1         2    Nashville    NaN  2025-01-06\n",
       "2         3      Memphis   8,75  2025-01-07\n",
       "3         4  Chattanooga    NaN  2025-01-08"
      ]
     },
     "execution_count": 13,
     "metadata": {},
     "output_type": "execute_result"
    }
   ],
   "source": [
    "df_messy = pd.read_csv(messy_path, sep=';', na_values=['NA','--'])\n",
    "df_messy.head()"
   ]
  },
  {
   "cell_type": "code",
   "execution_count": 14,
   "id": "73d5e5e3",
   "metadata": {},
   "outputs": [
    {
     "data": {
      "text/plain": [
       "order_id     int64\n",
       "city        object\n",
       "amount      object\n",
       "date        object\n",
       "dtype: object"
      ]
     },
     "execution_count": 14,
     "metadata": {},
     "output_type": "execute_result"
    }
   ],
   "source": [
    "df_messy.dtypes"
   ]
  },
  {
   "cell_type": "code",
   "execution_count": 15,
   "id": "5f8c33a3",
   "metadata": {},
   "outputs": [
    {
     "data": {
      "text/html": [
       "<div>\n",
       "<style scoped>\n",
       "    .dataframe tbody tr th:only-of-type {\n",
       "        vertical-align: middle;\n",
       "    }\n",
       "\n",
       "    .dataframe tbody tr th {\n",
       "        vertical-align: top;\n",
       "    }\n",
       "\n",
       "    .dataframe thead th {\n",
       "        text-align: right;\n",
       "    }\n",
       "</style>\n",
       "<table border=\"1\" class=\"dataframe\">\n",
       "  <thead>\n",
       "    <tr style=\"text-align: right;\">\n",
       "      <th></th>\n",
       "      <th>order_id</th>\n",
       "      <th>city</th>\n",
       "      <th>amount</th>\n",
       "      <th>date</th>\n",
       "    </tr>\n",
       "  </thead>\n",
       "  <tbody>\n",
       "    <tr>\n",
       "      <th>0</th>\n",
       "      <td>1</td>\n",
       "      <td>Knoxville</td>\n",
       "      <td>19.99</td>\n",
       "      <td>2025-01-05</td>\n",
       "    </tr>\n",
       "    <tr>\n",
       "      <th>1</th>\n",
       "      <td>2</td>\n",
       "      <td>Nashville</td>\n",
       "      <td>NaN</td>\n",
       "      <td>2025-01-06</td>\n",
       "    </tr>\n",
       "    <tr>\n",
       "      <th>2</th>\n",
       "      <td>3</td>\n",
       "      <td>Memphis</td>\n",
       "      <td>8.75</td>\n",
       "      <td>2025-01-07</td>\n",
       "    </tr>\n",
       "    <tr>\n",
       "      <th>3</th>\n",
       "      <td>4</td>\n",
       "      <td>Chattanooga</td>\n",
       "      <td>NaN</td>\n",
       "      <td>2025-01-08</td>\n",
       "    </tr>\n",
       "  </tbody>\n",
       "</table>\n",
       "</div>"
      ],
      "text/plain": [
       "   order_id         city  amount        date\n",
       "0         1    Knoxville   19.99  2025-01-05\n",
       "1         2    Nashville     NaN  2025-01-06\n",
       "2         3      Memphis    8.75  2025-01-07\n",
       "3         4  Chattanooga     NaN  2025-01-08"
      ]
     },
     "execution_count": 15,
     "metadata": {},
     "output_type": "execute_result"
    }
   ],
   "source": [
    "# Convert 'amount' from '19,99' style to float\n",
    "df_messy['amount'] = (\n",
    "    df_messy['amount']\n",
    "      .astype(str)\n",
    "      .str.replace(',', '.', regex=False)\n",
    "      .astype(float)\n",
    ")\n",
    "df_messy"
   ]
  },
  {
   "cell_type": "code",
   "execution_count": 16,
   "id": "5a853337",
   "metadata": {},
   "outputs": [
    {
     "data": {
      "text/plain": [
       "order_id      int64\n",
       "city         object\n",
       "amount      float64\n",
       "date         object\n",
       "dtype: object"
      ]
     },
     "execution_count": 16,
     "metadata": {},
     "output_type": "execute_result"
    }
   ],
   "source": [
    "df_messy.dtypes"
   ]
  },
  {
   "cell_type": "markdown",
   "id": "0d8c220b",
   "metadata": {},
   "source": [
    "## Quoting and multiline fields\n",
    "- Use `quotechar` and let pandas handle embedded commas and newlines"
   ]
  },
  {
   "cell_type": "code",
   "execution_count": 17,
   "id": "9ac78638",
   "metadata": {},
   "outputs": [
    {
     "name": "stdout",
     "output_type": "stream",
     "text": [
      "Error: Error tokenizing data. C error: Expected 3 fields in line 3, saw 4\n",
      "\n"
     ]
    }
   ],
   "source": [
    "try:\n",
    "    quoted_path = DATA_DIR / \"multiline_quotes.csv\"\n",
    "    df_quotes = pd.read_csv(quoted_path)\n",
    "except Exception as e:\n",
    "    print(\"Error:\", e)"
   ]
  },
  {
   "cell_type": "code",
   "execution_count": 18,
   "id": "3916b7ee",
   "metadata": {},
   "outputs": [
    {
     "name": "stdout",
     "output_type": "stream",
     "text": [
      "This is a file for testing.\n",
      "order_id,city,notes\n",
      "1,'New York, USA','Line1\n",
      "Line2 with comma, inside quotes'\n",
      "2,'Paris, FR','Contains \"quoted\" text'\n"
     ]
    }
   ],
   "source": [
    "! head data/multiline_quotes.csv"
   ]
  },
  {
   "cell_type": "code",
   "execution_count": 19,
   "id": "cc6a06db",
   "metadata": {},
   "outputs": [
    {
     "data": {
      "text/html": [
       "<div>\n",
       "<style scoped>\n",
       "    .dataframe tbody tr th:only-of-type {\n",
       "        vertical-align: middle;\n",
       "    }\n",
       "\n",
       "    .dataframe tbody tr th {\n",
       "        vertical-align: top;\n",
       "    }\n",
       "\n",
       "    .dataframe thead th {\n",
       "        text-align: right;\n",
       "    }\n",
       "</style>\n",
       "<table border=\"1\" class=\"dataframe\">\n",
       "  <thead>\n",
       "    <tr style=\"text-align: right;\">\n",
       "      <th></th>\n",
       "      <th>order_id</th>\n",
       "      <th>city</th>\n",
       "      <th>notes</th>\n",
       "    </tr>\n",
       "  </thead>\n",
       "  <tbody>\n",
       "    <tr>\n",
       "      <th>1</th>\n",
       "      <td>'New York</td>\n",
       "      <td>USA'</td>\n",
       "      <td>'Line1</td>\n",
       "    </tr>\n",
       "    <tr>\n",
       "      <th>Line2 with comma</th>\n",
       "      <td>inside quotes'</td>\n",
       "      <td>NaN</td>\n",
       "      <td>NaN</td>\n",
       "    </tr>\n",
       "    <tr>\n",
       "      <th>2</th>\n",
       "      <td>'Paris</td>\n",
       "      <td>FR'</td>\n",
       "      <td>'Contains \"quoted\" text'</td>\n",
       "    </tr>\n",
       "  </tbody>\n",
       "</table>\n",
       "</div>"
      ],
      "text/plain": [
       "                         order_id   city                     notes\n",
       "1                       'New York   USA'                    'Line1\n",
       "Line2 with comma   inside quotes'    NaN                       NaN\n",
       "2                          'Paris    FR'  'Contains \"quoted\" text'"
      ]
     },
     "execution_count": 19,
     "metadata": {},
     "output_type": "execute_result"
    }
   ],
   "source": [
    "df_quotes = pd.read_csv(quoted_path, skiprows=1)\n",
    "df_quotes"
   ]
  },
  {
   "cell_type": "code",
   "execution_count": 20,
   "id": "5047d69f",
   "metadata": {},
   "outputs": [
    {
     "data": {
      "text/html": [
       "<div>\n",
       "<style scoped>\n",
       "    .dataframe tbody tr th:only-of-type {\n",
       "        vertical-align: middle;\n",
       "    }\n",
       "\n",
       "    .dataframe tbody tr th {\n",
       "        vertical-align: top;\n",
       "    }\n",
       "\n",
       "    .dataframe thead th {\n",
       "        text-align: right;\n",
       "    }\n",
       "</style>\n",
       "<table border=\"1\" class=\"dataframe\">\n",
       "  <thead>\n",
       "    <tr style=\"text-align: right;\">\n",
       "      <th></th>\n",
       "      <th>order_id</th>\n",
       "      <th>city</th>\n",
       "      <th>notes</th>\n",
       "    </tr>\n",
       "  </thead>\n",
       "  <tbody>\n",
       "    <tr>\n",
       "      <th>0</th>\n",
       "      <td>1</td>\n",
       "      <td>New York, USA</td>\n",
       "      <td>Line1\\nLine2 with comma, inside quotes</td>\n",
       "    </tr>\n",
       "    <tr>\n",
       "      <th>1</th>\n",
       "      <td>2</td>\n",
       "      <td>Paris, FR</td>\n",
       "      <td>Contains \"quoted\" text</td>\n",
       "    </tr>\n",
       "  </tbody>\n",
       "</table>\n",
       "</div>"
      ],
      "text/plain": [
       "   order_id           city                                   notes\n",
       "0         1  New York, USA  Line1\\nLine2 with comma, inside quotes\n",
       "1         2      Paris, FR                  Contains \"quoted\" text"
      ]
     },
     "execution_count": 20,
     "metadata": {},
     "output_type": "execute_result"
    }
   ],
   "source": [
    "df_quotes = pd.read_csv(quoted_path, skiprows=1, quotechar=\"'\")\n",
    "df_quotes"
   ]
  },
  {
   "cell_type": "markdown",
   "id": "74db02e6",
   "metadata": {},
   "source": [
    "## Excel with multiple sheets and junk rows\n",
    "- Identify sheets\n",
    "- Skip metadata rows\n",
    "- Fix headers if needed"
   ]
  },
  {
   "cell_type": "code",
   "execution_count": 21,
   "id": "26f8ab4d",
   "metadata": {},
   "outputs": [
    {
     "data": {
      "text/plain": [
       "['Summary', 'RawData']"
      ]
     },
     "execution_count": 21,
     "metadata": {},
     "output_type": "execute_result"
    }
   ],
   "source": [
    "xls_path = DATA_DIR / \"report.xlsx\"\n",
    "xe = pd.ExcelFile(xls_path)\n",
    "xe.sheet_names"
   ]
  },
  {
   "cell_type": "code",
   "execution_count": 22,
   "id": "ed614c23",
   "metadata": {},
   "outputs": [
    {
     "data": {
      "text/html": [
       "<div>\n",
       "<style scoped>\n",
       "    .dataframe tbody tr th:only-of-type {\n",
       "        vertical-align: middle;\n",
       "    }\n",
       "\n",
       "    .dataframe tbody tr th {\n",
       "        vertical-align: top;\n",
       "    }\n",
       "\n",
       "    .dataframe thead th {\n",
       "        text-align: right;\n",
       "    }\n",
       "</style>\n",
       "<table border=\"1\" class=\"dataframe\">\n",
       "  <thead>\n",
       "    <tr style=\"text-align: right;\">\n",
       "      <th></th>\n",
       "      <th>Report generated 2025-01-10</th>\n",
       "      <th>Unnamed: 1</th>\n",
       "      <th>Unnamed: 2</th>\n",
       "    </tr>\n",
       "  </thead>\n",
       "  <tbody>\n",
       "    <tr>\n",
       "      <th>0</th>\n",
       "      <td>Department: Sales</td>\n",
       "      <td>NaN</td>\n",
       "      <td>NaN</td>\n",
       "    </tr>\n",
       "    <tr>\n",
       "      <th>1</th>\n",
       "      <td>NaN</td>\n",
       "      <td>NaN</td>\n",
       "      <td>NaN</td>\n",
       "    </tr>\n",
       "    <tr>\n",
       "      <th>2</th>\n",
       "      <td>id</td>\n",
       "      <td>region</td>\n",
       "      <td>revenue</td>\n",
       "    </tr>\n",
       "    <tr>\n",
       "      <th>3</th>\n",
       "      <td>101</td>\n",
       "      <td>East</td>\n",
       "      <td>1000.5</td>\n",
       "    </tr>\n",
       "    <tr>\n",
       "      <th>4</th>\n",
       "      <td>102</td>\n",
       "      <td>West</td>\n",
       "      <td>850.3</td>\n",
       "    </tr>\n",
       "    <tr>\n",
       "      <th>5</th>\n",
       "      <td>103</td>\n",
       "      <td>South</td>\n",
       "      <td>920.15</td>\n",
       "    </tr>\n",
       "  </tbody>\n",
       "</table>\n",
       "</div>"
      ],
      "text/plain": [
       "  Report generated 2025-01-10 Unnamed: 1 Unnamed: 2\n",
       "0           Department: Sales        NaN        NaN\n",
       "1                         NaN        NaN        NaN\n",
       "2                          id     region    revenue\n",
       "3                         101       East     1000.5\n",
       "4                         102       West      850.3\n",
       "5                         103      South     920.15"
      ]
     },
     "execution_count": 22,
     "metadata": {},
     "output_type": "execute_result"
    }
   ],
   "source": [
    "df_summary = xe.parse(\"Summary\")\n",
    "df_summary"
   ]
  },
  {
   "cell_type": "code",
   "execution_count": 23,
   "id": "5574494c",
   "metadata": {},
   "outputs": [
    {
     "data": {
      "text/html": [
       "<div>\n",
       "<style scoped>\n",
       "    .dataframe tbody tr th:only-of-type {\n",
       "        vertical-align: middle;\n",
       "    }\n",
       "\n",
       "    .dataframe tbody tr th {\n",
       "        vertical-align: top;\n",
       "    }\n",
       "\n",
       "    .dataframe thead th {\n",
       "        text-align: right;\n",
       "    }\n",
       "</style>\n",
       "<table border=\"1\" class=\"dataframe\">\n",
       "  <thead>\n",
       "    <tr style=\"text-align: right;\">\n",
       "      <th></th>\n",
       "      <th>id</th>\n",
       "      <th>region</th>\n",
       "      <th>revenue</th>\n",
       "    </tr>\n",
       "  </thead>\n",
       "  <tbody>\n",
       "    <tr>\n",
       "      <th>0</th>\n",
       "      <td>101</td>\n",
       "      <td>East</td>\n",
       "      <td>1000.50</td>\n",
       "    </tr>\n",
       "    <tr>\n",
       "      <th>1</th>\n",
       "      <td>102</td>\n",
       "      <td>West</td>\n",
       "      <td>850.30</td>\n",
       "    </tr>\n",
       "    <tr>\n",
       "      <th>2</th>\n",
       "      <td>103</td>\n",
       "      <td>South</td>\n",
       "      <td>920.15</td>\n",
       "    </tr>\n",
       "  </tbody>\n",
       "</table>\n",
       "</div>"
      ],
      "text/plain": [
       "    id region  revenue\n",
       "0  101   East  1000.50\n",
       "1  102   West   850.30\n",
       "2  103  South   920.15"
      ]
     },
     "execution_count": 23,
     "metadata": {},
     "output_type": "execute_result"
    }
   ],
   "source": [
    "df_summary = xe.parse(\"Summary\", skiprows=3)\n",
    "df_summary"
   ]
  },
  {
   "cell_type": "code",
   "execution_count": 24,
   "id": "a342374e",
   "metadata": {},
   "outputs": [
    {
     "data": {
      "text/html": [
       "<div>\n",
       "<style scoped>\n",
       "    .dataframe tbody tr th:only-of-type {\n",
       "        vertical-align: middle;\n",
       "    }\n",
       "\n",
       "    .dataframe tbody tr th {\n",
       "        vertical-align: top;\n",
       "    }\n",
       "\n",
       "    .dataframe thead th {\n",
       "        text-align: right;\n",
       "    }\n",
       "</style>\n",
       "<table border=\"1\" class=\"dataframe\">\n",
       "  <thead>\n",
       "    <tr style=\"text-align: right;\">\n",
       "      <th></th>\n",
       "      <th>id</th>\n",
       "      <th>region</th>\n",
       "      <th>revenue</th>\n",
       "    </tr>\n",
       "  </thead>\n",
       "  <tbody>\n",
       "    <tr>\n",
       "      <th>0</th>\n",
       "      <td>101</td>\n",
       "      <td>East</td>\n",
       "      <td>1000.50</td>\n",
       "    </tr>\n",
       "    <tr>\n",
       "      <th>1</th>\n",
       "      <td>102</td>\n",
       "      <td>West</td>\n",
       "      <td>850.30</td>\n",
       "    </tr>\n",
       "    <tr>\n",
       "      <th>2</th>\n",
       "      <td>103</td>\n",
       "      <td>South</td>\n",
       "      <td>920.15</td>\n",
       "    </tr>\n",
       "  </tbody>\n",
       "</table>\n",
       "</div>"
      ],
      "text/plain": [
       "    id region  revenue\n",
       "0  101   East  1000.50\n",
       "1  102   West   850.30\n",
       "2  103  South   920.15"
      ]
     },
     "execution_count": 24,
     "metadata": {},
     "output_type": "execute_result"
    }
   ],
   "source": [
    "# Read 'Summary' sheet, skipping top 3 junk rows\n",
    "df_summary = pd.read_excel(xls_path, sheet_name=\"Summary\", skiprows=3)\n",
    "df_summary"
   ]
  },
  {
   "cell_type": "code",
   "execution_count": 25,
   "id": "19b6a853",
   "metadata": {},
   "outputs": [
    {
     "data": {
      "text/html": [
       "<div>\n",
       "<style scoped>\n",
       "    .dataframe tbody tr th:only-of-type {\n",
       "        vertical-align: middle;\n",
       "    }\n",
       "\n",
       "    .dataframe tbody tr th {\n",
       "        vertical-align: top;\n",
       "    }\n",
       "\n",
       "    .dataframe thead th {\n",
       "        text-align: right;\n",
       "    }\n",
       "</style>\n",
       "<table border=\"1\" class=\"dataframe\">\n",
       "  <thead>\n",
       "    <tr style=\"text-align: right;\">\n",
       "      <th></th>\n",
       "      <th>id</th>\n",
       "      <th>state</th>\n",
       "      <th>amount</th>\n",
       "    </tr>\n",
       "  </thead>\n",
       "  <tbody>\n",
       "    <tr>\n",
       "      <th>0</th>\n",
       "      <td>201</td>\n",
       "      <td>TN</td>\n",
       "      <td>20.50</td>\n",
       "    </tr>\n",
       "    <tr>\n",
       "      <th>1</th>\n",
       "      <td>202</td>\n",
       "      <td>GA</td>\n",
       "      <td>25.00</td>\n",
       "    </tr>\n",
       "    <tr>\n",
       "      <th>2</th>\n",
       "      <td>203</td>\n",
       "      <td>AL</td>\n",
       "      <td>18.75</td>\n",
       "    </tr>\n",
       "  </tbody>\n",
       "</table>\n",
       "</div>"
      ],
      "text/plain": [
       "    id state  amount\n",
       "0  201    TN   20.50\n",
       "1  202    GA   25.00\n",
       "2  203    AL   18.75"
      ]
     },
     "execution_count": 25,
     "metadata": {},
     "output_type": "execute_result"
    }
   ],
   "source": [
    "df_raw = xe.parse(1)\n",
    "df_raw"
   ]
  },
  {
   "cell_type": "markdown",
   "id": "78dd01c4",
   "metadata": {},
   "source": [
    "## Reading compressed CSV (gzip)\n",
    "- Read directly from `.csv.gz` without extracting"
   ]
  },
  {
   "cell_type": "code",
   "execution_count": 26,
   "id": "1a2f320d",
   "metadata": {},
   "outputs": [
    {
     "name": "stdout",
     "output_type": "stream",
     "text": [
      "%T�\u00155P�\u0004-�(C�C�R4�;\u000e�0\fD�~�2E����<!ႂ4D�\u001f��ʣ+���s���s;��Z>w�\u000bB���\u00064����C��\n",
      ",d4\fJ����N��\u0003\u0000\u0000��\u0003\u0000�W�\t�\u0000\u0000\u0000"
     ]
    }
   ],
   "source": [
    "! head data/events.csv.gz"
   ]
  },
  {
   "cell_type": "code",
   "execution_count": 27,
   "id": "f29f3394",
   "metadata": {},
   "outputs": [
    {
     "name": "stdout",
     "output_type": "stream",
     "text": [
      "/bin/bash: line 1: gzcat: command not found\n"
     ]
    }
   ],
   "source": [
    "! gzcat data/events.csv.gz "
   ]
  },
  {
   "cell_type": "code",
   "execution_count": 28,
   "id": "618ed7ef",
   "metadata": {},
   "outputs": [
    {
     "data": {
      "text/html": [
       "<div>\n",
       "<style scoped>\n",
       "    .dataframe tbody tr th:only-of-type {\n",
       "        vertical-align: middle;\n",
       "    }\n",
       "\n",
       "    .dataframe tbody tr th {\n",
       "        vertical-align: top;\n",
       "    }\n",
       "\n",
       "    .dataframe thead th {\n",
       "        text-align: right;\n",
       "    }\n",
       "</style>\n",
       "<table border=\"1\" class=\"dataframe\">\n",
       "  <thead>\n",
       "    <tr style=\"text-align: right;\">\n",
       "      <th></th>\n",
       "      <th>event_id</th>\n",
       "      <th>name</th>\n",
       "      <th>attendees</th>\n",
       "    </tr>\n",
       "  </thead>\n",
       "  <tbody>\n",
       "    <tr>\n",
       "      <th>0</th>\n",
       "      <td>1</td>\n",
       "      <td>event_1</td>\n",
       "      <td>89</td>\n",
       "    </tr>\n",
       "    <tr>\n",
       "      <th>1</th>\n",
       "      <td>2</td>\n",
       "      <td>event_2</td>\n",
       "      <td>100</td>\n",
       "    </tr>\n",
       "    <tr>\n",
       "      <th>2</th>\n",
       "      <td>3</td>\n",
       "      <td>event_3</td>\n",
       "      <td>126</td>\n",
       "    </tr>\n",
       "    <tr>\n",
       "      <th>3</th>\n",
       "      <td>4</td>\n",
       "      <td>event_4</td>\n",
       "      <td>32</td>\n",
       "    </tr>\n",
       "    <tr>\n",
       "      <th>4</th>\n",
       "      <td>5</td>\n",
       "      <td>event_5</td>\n",
       "      <td>61</td>\n",
       "    </tr>\n",
       "  </tbody>\n",
       "</table>\n",
       "</div>"
      ],
      "text/plain": [
       "   event_id     name  attendees\n",
       "0         1  event_1         89\n",
       "1         2  event_2        100\n",
       "2         3  event_3        126\n",
       "3         4  event_4         32\n",
       "4         5  event_5         61"
      ]
     },
     "execution_count": 28,
     "metadata": {},
     "output_type": "execute_result"
    }
   ],
   "source": [
    "gz_path = DATA_DIR / \"events.csv.gz\"\n",
    "df_gz = pd.read_csv(gz_path, compression='gzip')\n",
    "df_gz.head()"
   ]
  },
  {
   "cell_type": "markdown",
   "id": "e89d45e7",
   "metadata": {},
   "source": [
    "## Large file strategy with `chunksize`\n",
    "- Stream rows in chunks\n",
    "- Filter early to reduce memory\n",
    "- Aggregate incrementally"
   ]
  },
  {
   "cell_type": "code",
   "execution_count": 29,
   "id": "5ae1fb80",
   "metadata": {},
   "outputs": [
    {
     "name": "stdout",
     "output_type": "stream",
     "text": [
      "200001 data/large_synthetic.csv\n"
     ]
    }
   ],
   "source": [
    "! wc -l data/large_synthetic.csv"
   ]
  },
  {
   "cell_type": "code",
   "execution_count": 30,
   "id": "1efcf759",
   "metadata": {},
   "outputs": [
    {
     "data": {
      "text/plain": [
       "pandas.io.parsers.readers.TextFileReader"
      ]
     },
     "execution_count": 30,
     "metadata": {},
     "output_type": "execute_result"
    }
   ],
   "source": [
    "large_path = DATA_DIR / \"large_synthetic.csv\"\n",
    "iter_chunks = pd.read_csv(large_path, chunksize=30000)\n",
    "type(iter_chunks)"
   ]
  },
  {
   "cell_type": "code",
   "execution_count": 31,
   "id": "14a8a7e8",
   "metadata": {},
   "outputs": [
    {
     "name": "stdout",
     "output_type": "stream",
     "text": [
      "(30000, 3)\n",
      "(30000, 3)\n",
      "(30000, 3)\n",
      "(30000, 3)\n",
      "(30000, 3)\n",
      "(30000, 3)\n",
      "(20000, 3)\n"
     ]
    }
   ],
   "source": [
    "for chunk in iter_chunks:\n",
    "    df = chunk\n",
    "    print(df.shape)"
   ]
  },
  {
   "cell_type": "code",
   "execution_count": 32,
   "id": "60adf32f",
   "metadata": {},
   "outputs": [],
   "source": [
    "for chunk in iter_chunks:\n",
    "    df = chunk[chunk[\"flag\"] == \"A\"]\n",
    "    print(df.shape)"
   ]
  },
  {
   "cell_type": "code",
   "execution_count": 33,
   "id": "96bc8749",
   "metadata": {},
   "outputs": [
    {
     "name": "stdout",
     "output_type": "stream",
     "text": [
      "(10153, 3)\n",
      "(10010, 3)\n",
      "(10001, 3)\n",
      "(9889, 3)\n",
      "(10074, 3)\n",
      "(10014, 3)\n",
      "(6776, 3)\n"
     ]
    }
   ],
   "source": [
    "iter_chunks = pd.read_csv(large_path, chunksize=30000)\n",
    "for chunk in iter_chunks:\n",
    "    df = chunk[chunk[\"flag\"] == \"A\"]\n",
    "    print(df.shape)"
   ]
  },
  {
   "cell_type": "code",
   "execution_count": 34,
   "id": "d0ba5654",
   "metadata": {},
   "outputs": [
    {
     "name": "stdout",
     "output_type": "stream",
     "text": [
      "(10153, 3)\n",
      "(20163, 3)\n",
      "(30164, 3)\n",
      "(40053, 3)\n",
      "(50127, 3)\n",
      "(60141, 3)\n",
      "(66917, 3)\n"
     ]
    }
   ],
   "source": [
    "iter_chunks = pd.read_csv(large_path, chunksize=30000)\n",
    "df = pd.DataFrame()\n",
    "for chunk in iter_chunks:\n",
    "    df = pd.concat([df, chunk[chunk[\"flag\"] == \"A\"]])\n",
    "    print(df.shape)"
   ]
  },
  {
   "cell_type": "markdown",
   "id": "b1666964",
   "metadata": {},
   "source": [
    "## Memory inspection and dtype optimization\n",
    "- Identify heavy columns\n",
    "- Downcast numeric types\n",
    "- Convert repeated strings to `category`"
   ]
  },
  {
   "cell_type": "code",
   "execution_count": 35,
   "id": "f84cd488",
   "metadata": {},
   "outputs": [
    {
     "data": {
      "text/plain": [
       "Index           132\n",
       "user_id     1600000\n",
       "value       1600000\n",
       "flag       10000000\n",
       "dtype: int64"
      ]
     },
     "execution_count": 35,
     "metadata": {},
     "output_type": "execute_result"
    }
   ],
   "source": [
    "df_sample = pd.read_csv(large_path)\n",
    "df_sample.memory_usage(deep=True)"
   ]
  },
  {
   "cell_type": "code",
   "execution_count": 36,
   "id": "affa9f2d",
   "metadata": {},
   "outputs": [
    {
     "data": {
      "text/plain": [
       "Index          132\n",
       "user_id    1600000\n",
       "value      1600000\n",
       "flag        200258\n",
       "dtype: int64"
      ]
     },
     "execution_count": 36,
     "metadata": {},
     "output_type": "execute_result"
    }
   ],
   "source": [
    "# Optimize\n",
    "df_opt = df_sample.copy()\n",
    "df_opt['flag'] = df_opt['flag'].astype('category')\n",
    "df_opt.memory_usage(deep=True)"
   ]
  },
  {
   "cell_type": "code",
   "execution_count": 37,
   "id": "fd458ac0",
   "metadata": {},
   "outputs": [
    {
     "data": {
      "text/plain": [
       "Index          132\n",
       "user_id     400000\n",
       "value      1600000\n",
       "flag        200258\n",
       "dtype: int64"
      ]
     },
     "execution_count": 37,
     "metadata": {},
     "output_type": "execute_result"
    }
   ],
   "source": [
    "df_opt['user_id'] = pd.to_numeric(df_opt['user_id'], downcast='unsigned')\n",
    "df_opt.memory_usage(deep=True)"
   ]
  },
  {
   "cell_type": "code",
   "execution_count": 38,
   "id": "e5acfa29",
   "metadata": {},
   "outputs": [
    {
     "data": {
      "text/plain": [
       "Index         132\n",
       "user_id    400000\n",
       "value      800000\n",
       "flag       200258\n",
       "dtype: int64"
      ]
     },
     "execution_count": 38,
     "metadata": {},
     "output_type": "execute_result"
    }
   ],
   "source": [
    "df_opt['value'] = pd.to_numeric(df_opt['value'], downcast='float')\n",
    "df_opt.memory_usage(deep=True)"
   ]
  },
  {
   "cell_type": "code",
   "execution_count": 39,
   "id": "6a9ed1b3",
   "metadata": {},
   "outputs": [
    {
     "name": "stdout",
     "output_type": "stream",
     "text": [
      "Size before optimization:\t12.59 MB\n",
      "Size after optimization:\t1.34 MB\n",
      "Reduction in size: \t\t89.39%\n"
     ]
    }
   ],
   "source": [
    "before = df_sample.memory_usage(deep=True).sum() / (1024**2)\n",
    "after = df_opt.memory_usage(deep=True).sum() / (1024**2)\n",
    "reduction = round(100*(1-(after/before)),2)\n",
    "print(f\"Size before optimization:\\t{before:.2f} MB\")\n",
    "print(f\"Size after optimization:\\t{after:.2f} MB\")\n",
    "print(f\"Reduction in size: \\t\\t{reduction:.2f}%\")"
   ]
  }
 ],
 "metadata": {
  "kernelspec": {
   "display_name": "Python 3",
   "language": "python",
   "name": "python3"
  },
  "language_info": {
   "codemirror_mode": {
    "name": "ipython",
    "version": 3
   },
   "file_extension": ".py",
   "mimetype": "text/x-python",
   "name": "python",
   "nbconvert_exporter": "python",
   "pygments_lexer": "ipython3",
   "version": "3.12.1"
  }
 },
 "nbformat": 4,
 "nbformat_minor": 5
}
