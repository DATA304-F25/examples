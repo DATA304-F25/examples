{
 "cells": [
  {
   "cell_type": "markdown",
   "id": "53242844",
   "metadata": {},
   "source": [
    "# DATA 304 – Module 3, Session 2: Hands‑On\n",
    "Encodings, malformed rows, and Excel debugging."
   ]
  },
  {
   "cell_type": "code",
   "execution_count": null,
   "id": "af6fefd6",
   "metadata": {},
   "outputs": [],
   "source": [
    "from pathlib import Path\n",
    "import pandas as pd\n",
    "\n",
    "DATA_DIR = Path(\"data\")\n",
    "list(DATA_DIR.iterdir())"
   ]
  },
  {
   "cell_type": "markdown",
   "id": "2dd3feb5",
   "metadata": {},
   "source": [
    "## Part A - Encodings"
   ]
  },
  {
   "cell_type": "markdown",
   "id": "091ff108",
   "metadata": {},
   "source": [
    "### Task A1 — UTF-8 vs Latin-1\n",
    "1) Load `utf8_file.csv` normally.\n",
    "2) Try loading `latin1_file.csv` with default encoding and observe.\n",
    "3) Load `latin1_file.csv` with the correct encoding."
   ]
  },
  {
   "cell_type": "code",
   "execution_count": null,
   "id": "ad0052bd",
   "metadata": {},
   "outputs": [],
   "source": [
    "utf8_path = DATA_DIR / \"utf8_file.csv\"\n",
    "df_utf8 = ..."
   ]
  },
  {
   "cell_type": "code",
   "execution_count": null,
   "id": "840aa0df",
   "metadata": {},
   "outputs": [],
   "source": [
    "latin1_path = DATA_DIR / \"latin1_file.csv\"\n",
    "df_latin1 = ..."
   ]
  },
  {
   "cell_type": "code",
   "execution_count": null,
   "id": "19c76a02",
   "metadata": {},
   "outputs": [],
   "source": [
    "df_latin1 = ..."
   ]
  },
  {
   "cell_type": "markdown",
   "id": "0dc0f7f9",
   "metadata": {},
   "source": [
    "## Part B - Malformed CSV rows"
   ]
  },
  {
   "cell_type": "markdown",
   "id": "85ed2032",
   "metadata": {},
   "source": [
    "### Task B1 — Diagnose and skip bad lines in `broken_rows.csv`\n",
    "1) Attempt naive read and capture the error or shape.\n",
    "2) Read again with `on_bad_lines='skip'`.\n",
    "3) Examine the raw lines and count commas per line."
   ]
  },
  {
   "cell_type": "code",
   "execution_count": null,
   "id": "90a0bfa4",
   "metadata": {},
   "outputs": [],
   "source": [
    "broken_path = DATA_DIR / \"broken_rows.csv\"\n",
    "df_naive = ..."
   ]
  },
  {
   "cell_type": "code",
   "execution_count": null,
   "id": "932e0506",
   "metadata": {},
   "outputs": [],
   "source": [
    "df_skip = ..."
   ]
  },
  {
   "cell_type": "code",
   "execution_count": null,
   "id": "72958eeb",
   "metadata": {},
   "outputs": [],
   "source": [
    "lines = ..."
   ]
  },
  {
   "cell_type": "markdown",
   "id": "2443f6b5",
   "metadata": {},
   "source": [
    "## Part C — Messy Excel (`messy_excel.xlsx`)"
   ]
  },
  {
   "cell_type": "markdown",
   "id": "c4371a18",
   "metadata": {},
   "source": [
    "### Task C1 — Inspect sheets and reproduce the problem\n",
    "1) List sheet names.\n",
    "2) Parse `Quarterly` **naively** and inspect the header issues.\n",
    "3) Re-parse with `header=1` to fix the header row."
   ]
  },
  {
   "cell_type": "code",
   "execution_count": null,
   "id": "f5e61bcb",
   "metadata": {},
   "outputs": [],
   "source": [
    "xls_path = DATA_DIR / \"messy_excel.xlsx\"\n",
    "xe = ..."
   ]
  },
  {
   "cell_type": "code",
   "execution_count": null,
   "id": "f037c805",
   "metadata": {},
   "outputs": [],
   "source": [
    "df_quarterly = ..."
   ]
  },
  {
   "cell_type": "code",
   "execution_count": null,
   "id": "5b289a55",
   "metadata": {},
   "outputs": [],
   "source": [
    "df_quarterly = ..."
   ]
  },
  {
   "cell_type": "markdown",
   "id": "8590092a",
   "metadata": {},
   "source": [
    "### Task C2 — Remove junk rows\n",
    "Drop fully empty rows and the trailing `Report total` row."
   ]
  },
  {
   "cell_type": "code",
   "execution_count": null,
   "id": "58f9b72e",
   "metadata": {},
   "outputs": [],
   "source": [
    "df_quarterly = ..."
   ]
  },
  {
   "cell_type": "markdown",
   "id": "3a92005f",
   "metadata": {},
   "source": [
    "### Task C3 — Coerce numeric columns without warnings\n",
    "Convert the first three columns (Q1–Q3) to numeric using `.loc`."
   ]
  },
  {
   "cell_type": "code",
   "execution_count": null,
   "id": "a296fd41",
   "metadata": {},
   "outputs": [],
   "source": [
    "df_quarterly = ..."
   ]
  },
  {
   "cell_type": "markdown",
   "id": "da0027a3",
   "metadata": {},
   "source": [
    "### Task C4 — Consolidate extra header labels into a single `city` column\n",
    "Assign the extra header labels (mojibake strings) row-wise, then drop those columns."
   ]
  },
  {
   "cell_type": "code",
   "execution_count": null,
   "id": "6a30354c",
   "metadata": {},
   "outputs": [],
   "source": [
    "df_quarterly = ..."
   ]
  },
  {
   "cell_type": "markdown",
   "id": "a9d812dd",
   "metadata": {},
   "source": [
    "### Task C5 — stretch: fix mojibake in `city`\n",
    "Re-decode strings for correct encoding."
   ]
  },
  {
   "cell_type": "code",
   "execution_count": null,
   "id": "9aa88df9",
   "metadata": {},
   "outputs": [],
   "source": [
    "df_quarterly = ..."
   ]
  }
 ],
 "metadata": {
  "kernelspec": {
   "display_name": "Python 3",
   "language": "python",
   "name": "python3"
  },
  "language_info": {
   "codemirror_mode": {
    "name": "ipython",
    "version": 3
   },
   "file_extension": ".py",
   "mimetype": "text/x-python",
   "name": "python",
   "nbconvert_exporter": "python",
   "pygments_lexer": "ipython3",
   "version": "3.11.13"
  }
 },
 "nbformat": 4,
 "nbformat_minor": 5
}
