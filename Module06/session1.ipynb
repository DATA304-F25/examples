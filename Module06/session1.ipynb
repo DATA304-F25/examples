{
 "cells": [
  {
   "cell_type": "markdown",
   "id": "192f546c",
   "metadata": {},
   "source": [
    "# DATA 304 – Module 6, Session 1\n",
    "\n",
    "## Relational Databases with SQLite: Import, Query, Join, Aggregate\n",
    "**Goal:** Load data into SQLite, practice SQL queries, joins, and aggregation from Python.\n",
    "\n",
    "**What you'll learn:**\n",
    "- Create and connect to a SQLite database\n",
    "- Import CSV data into tables\n",
    "- Run SELECT, WHERE, ORDER BY, GROUP BY, HAVING\n",
    "- Perform INNER and LEFT JOINs\n",
    "- Create indexes and use parameterized queries\n",
    "- Export results back to CSV\n",
    "\n",
    "**Prereqs:** Python 3, `pandas`"
   ]
  },
  {
   "cell_type": "markdown",
   "id": "b8707aa2",
   "metadata": {},
   "source": [
    "## 1) Setup"
   ]
  },
  {
   "cell_type": "code",
   "execution_count": null,
   "id": "8515b327",
   "metadata": {},
   "outputs": [],
   "source": [
    "import sqlite3, os\n",
    "import pandas as pd\n",
    "print(pd.__version__)"
   ]
  },
  {
   "cell_type": "markdown",
   "id": "ecca044a",
   "metadata": {},
   "source": [
    "## 2) Create SQLite DB and tables"
   ]
  },
  {
   "cell_type": "code",
   "execution_count": null,
   "id": "20a78ee3",
   "metadata": {},
   "outputs": [],
   "source": [
    "db_path = './data/module6_session1.db'\n",
    "conn = sqlite3.connect(db_path)\n",
    "cur = conn.cursor()\n",
    "\n",
    "cur.execute('DROP TABLE IF EXISTS employees;')\n",
    "cur.execute('DROP TABLE IF EXISTS departments;')\n",
    "\n",
    "cur.execute('''CREATE TABLE departments (\n",
    "    dept_id INTEGER PRIMARY KEY,\n",
    "    dept_name TEXT NOT NULL\n",
    ");''')\n",
    "\n",
    "cur.execute('''CREATE TABLE employees (\n",
    "    emp_id INTEGER PRIMARY KEY,\n",
    "    name   TEXT NOT NULL,\n",
    "    dept_id INTEGER,\n",
    "    salary REAL,\n",
    "    hire_date TEXT,\n",
    "    FOREIGN KEY(dept_id) REFERENCES departments(dept_id)\n",
    ");''')\n",
    "conn.commit()\n",
    "print('Tables created.')"
   ]
  },
  {
   "cell_type": "markdown",
   "id": "c27d218d",
   "metadata": {},
   "source": [
    "## 3) Load CSVs into tables"
   ]
  },
  {
   "cell_type": "code",
   "execution_count": null,
   "id": "c1cd8b46",
   "metadata": {},
   "outputs": [],
   "source": [
    "df_emp = pd.read_csv('data/employees.csv')\n",
    "df_dep = pd.read_csv('data/departments.csv')\n",
    "\n",
    "df_dep.to_sql('departments', conn, if_exists='append', index=False) #if_exists → 'fail' (default, error if table exists), 'replace' (drop & recreate), 'append' (insert rows).\n",
    "df_emp.to_sql('employees', conn, if_exists='append', index=False)\n",
    "\n",
    "pd.read_sql('SELECT * FROM employees LIMIT 5;', conn)"
   ]
  },
  {
   "cell_type": "markdown",
   "id": "e5330633",
   "metadata": {},
   "source": [
    "## 4) Basic SELECT, WHERE, ORDER BY"
   ]
  },
  {
   "cell_type": "code",
   "execution_count": null,
   "id": "5d81a429",
   "metadata": {},
   "outputs": [],
   "source": [
    "pd.read_sql(''' \n",
    "                SELECT emp_id, name, salary\n",
    "                FROM employees\n",
    "                ORDER BY salary DESC;\n",
    "            ''', conn)"
   ]
  },
  {
   "cell_type": "code",
   "execution_count": null,
   "id": "d295624b",
   "metadata": {},
   "outputs": [],
   "source": [
    "pd.read_sql(''' \n",
    "                SELECT name, salary \n",
    "                FROM employees \n",
    "                WHERE salary >= 80000 \n",
    "                ORDER BY salary DESC;\n",
    "            ''', conn)"
   ]
  },
  {
   "cell_type": "markdown",
   "id": "b26de21a",
   "metadata": {},
   "source": [
    "## 5) Aggregation with GROUP BY and HAVING"
   ]
  },
  {
   "cell_type": "code",
   "execution_count": null,
   "id": "bee4e721",
   "metadata": {},
   "outputs": [],
   "source": [
    "pd.read_sql(''' \n",
    "                SELECT dept_id, COUNT(*) AS n_emp, AVG(salary) AS avg_salary\n",
    "                FROM employees\n",
    "                GROUP BY dept_id\n",
    "                ORDER BY avg_salary DESC;\n",
    "            ''', conn)"
   ]
  },
  {
   "cell_type": "code",
   "execution_count": null,
   "id": "a041d569",
   "metadata": {},
   "outputs": [],
   "source": [
    "pd.read_sql(''' \n",
    "                SELECT dept_id, COUNT(*) AS n_emp, AVG(salary) AS avg_salary\n",
    "                FROM employees\n",
    "                GROUP BY dept_id\n",
    "                HAVING AVG(salary) >= 80000;\n",
    "            ''', conn)"
   ]
  },
  {
   "cell_type": "markdown",
   "id": "5a6b3278",
   "metadata": {},
   "source": [
    "## 6) Joins"
   ]
  },
  {
   "cell_type": "code",
   "execution_count": null,
   "id": "5796d166",
   "metadata": {},
   "outputs": [],
   "source": [
    "pd.read_sql('''\n",
    "                SELECT e.emp_id, e.name, d.dept_name, e.salary\n",
    "                FROM employees e\n",
    "                INNER JOIN departments d ON e.dept_id = d.dept_id\n",
    "                ORDER BY e.emp_id;\n",
    "            ''', conn)"
   ]
  },
  {
   "cell_type": "code",
   "execution_count": null,
   "id": "1f1385e6",
   "metadata": {},
   "outputs": [],
   "source": [
    "pd.read_sql('''\n",
    "                SELECT d.dept_id, d.dept_name, e.emp_id, e.name\n",
    "                FROM departments d\n",
    "                LEFT JOIN employees e ON e.dept_id = d.dept_id\n",
    "                ORDER BY d.dept_id;\n",
    "            ''', conn)"
   ]
  },
  {
   "cell_type": "markdown",
   "id": "ca786315",
   "metadata": {},
   "source": [
    "## 7) Parameterized queries"
   ]
  },
  {
   "cell_type": "code",
   "execution_count": null,
   "id": "1292c9e4",
   "metadata": {},
   "outputs": [],
   "source": [
    "min_salary = 80000\n",
    "sql = 'SELECT name, salary FROM employees WHERE salary >= ? ORDER BY salary DESC;'\n",
    "pd.read_sql(sql, conn, params=(min_salary,))"
   ]
  },
  {
   "cell_type": "code",
   "execution_count": null,
   "id": "6686d9f5",
   "metadata": {},
   "outputs": [],
   "source": [
    "min_salary = 80000\n",
    "max_salary = 100000\n",
    "sql = 'SELECT name, salary FROM employees WHERE salary >= ? AND salary < ? ORDER BY salary DESC;'\n",
    "pd.read_sql(sql, conn, params=(min_salary, max_salary))"
   ]
  },
  {
   "cell_type": "markdown",
   "id": "a0b7f127",
   "metadata": {},
   "source": [
    "## 8) Indexes and EXPLAIN QUERY PLAN"
   ]
  },
  {
   "cell_type": "code",
   "execution_count": null,
   "id": "28dbf6e0",
   "metadata": {},
   "outputs": [],
   "source": [
    "pd.read_sql('EXPLAIN QUERY PLAN SELECT name FROM employees WHERE salary >= 80000;', conn)"
   ]
  },
  {
   "cell_type": "code",
   "execution_count": null,
   "id": "ec6a8875",
   "metadata": {},
   "outputs": [],
   "source": [
    "cur.execute('CREATE INDEX IF NOT EXISTS idx_emp_salary ON employees(salary);')\n",
    "conn.commit()\n",
    "pd.read_sql('EXPLAIN QUERY PLAN SELECT name FROM employees WHERE salary >= 80000;', conn)"
   ]
  },
  {
   "cell_type": "code",
   "execution_count": null,
   "id": "ddfb704b",
   "metadata": {},
   "outputs": [],
   "source": []
  },
  {
   "cell_type": "markdown",
   "id": "3abb29b7",
   "metadata": {},
   "source": [
    "## 9) Export results"
   ]
  },
  {
   "cell_type": "code",
   "execution_count": null,
   "id": "f0b4364c",
   "metadata": {},
   "outputs": [],
   "source": [
    "res = pd.read_sql('SELECT name, salary FROM employees WHERE salary >= 80000;', conn)\n",
    "res.to_csv('data/high_paid.csv', index=False)\n",
    "res.head()"
   ]
  },
  {
   "cell_type": "markdown",
   "id": "ab4d592d",
   "metadata": {},
   "source": [
    "## 10) Mini-exercises"
   ]
  },
  {
   "cell_type": "markdown",
   "id": "30ee0498",
   "metadata": {},
   "source": [
    "1. List employees hired in or after 2021"
   ]
  },
  {
   "cell_type": "code",
   "execution_count": null,
   "id": "e1dab216",
   "metadata": {},
   "outputs": [],
   "source": []
  },
  {
   "cell_type": "markdown",
   "id": "c922b601",
   "metadata": {},
   "source": [
    "2. Total payroll per department"
   ]
  },
  {
   "cell_type": "code",
   "execution_count": null,
   "id": "88acbd5c",
   "metadata": {},
   "outputs": [],
   "source": []
  },
  {
   "cell_type": "markdown",
   "id": "7dec667e",
   "metadata": {},
   "source": [
    "3. Departments with zero employees"
   ]
  },
  {
   "cell_type": "code",
   "execution_count": null,
   "id": "8a6aea39",
   "metadata": {},
   "outputs": [],
   "source": []
  },
  {
   "cell_type": "markdown",
   "id": "6621ee11",
   "metadata": {},
   "source": [
    "## 11) Close connection"
   ]
  },
  {
   "cell_type": "code",
   "execution_count": null,
   "id": "4c7f739d",
   "metadata": {},
   "outputs": [],
   "source": [
    "conn.close()"
   ]
  }
 ],
 "metadata": {
  "kernelspec": {
   "display_name": "Python 3",
   "language": "python",
   "name": "python3"
  },
  "language_info": {
   "codemirror_mode": {
    "name": "ipython",
    "version": 3
   },
   "file_extension": ".py",
   "mimetype": "text/x-python",
   "name": "python",
   "nbconvert_exporter": "python",
   "pygments_lexer": "ipython3",
   "version": "3.12.11"
  }
 },
 "nbformat": 4,
 "nbformat_minor": 5
}
