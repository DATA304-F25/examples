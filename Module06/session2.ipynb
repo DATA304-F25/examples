{
 "cells": [
  {
   "cell_type": "markdown",
   "id": "a95889a4",
   "metadata": {},
   "source": [
    "# DATA 304 – Module 6, Session 2\n",
    "\n",
    "## MongoDB with Python (PyMongo): Documents, Queries, Aggregations, Joins\n",
    "**Goal:** Work with a MongoDB collection from Python. Insert JSON-like documents, run queries, use the aggregation pipeline, and integrate with pandas.\n",
    "\n",
    "**What you'll learn:**\n",
    "- Connect to MongoDB (local or cloud)\n",
    "- Insert and query documents\n",
    "- Use projection, sorting, and operators ($gt, $in, etc.)\n",
    "- Build aggregation pipelines ($match, $group, $project, $unwind, $lookup)\n",
    "- Create indexes and view query plans\n",
    "- Load results into pandas\n",
    "\n",
    "**Prereqs:** Python 3, `pandas`. For database access you need **either** a local MongoDB server (e.g., Docker) **or** cloud instance (MongoDB Atlas)."
   ]
  },
  {
   "cell_type": "markdown",
   "id": "a5682040",
   "metadata": {},
   "source": [
    "## 0) Setup\n",
    "If `pymongo` or `mongomock` are missing, uncomment the `pip install` lines."
   ]
  },
  {
   "cell_type": "code",
   "execution_count": 1,
   "id": "048fd059",
   "metadata": {},
   "outputs": [
    {
     "name": "stdout",
     "output_type": "stream",
     "text": [
      "pandas 2.2.2\n"
     ]
    }
   ],
   "source": [
    "# If needed, install packages (uncomment if missing in your environment)\n",
    "# !pip install pymongo mongomock pandas --quiet\n",
    "import os, json\n",
    "import pandas as pd\n",
    "print('pandas', pd.__version__)"
   ]
  },
  {
   "cell_type": "markdown",
   "id": "7025ee7e",
   "metadata": {},
   "source": [
    "## 1) Connect to MongoDB (with graceful fallback)\n",
    "The code tries in this order:\n",
    "1. Real MongoDB at `mongodb://localhost:27017/`\n",
    "2. `MONGODB_URI` environment variable if set\n",
    "3. `mongomock` in-memory server for practice"
   ]
  },
  {
   "cell_type": "code",
   "execution_count": 2,
   "id": "641496a1",
   "metadata": {},
   "outputs": [
    {
     "name": "stdout",
     "output_type": "stream",
     "text": [
      "Real MongoDB not available -> trying mongomock. Error was: localhost:27017: [Errno 111] Connection refused (configured timeouts: socketTimeoutMS: 20000.0ms, connectTimeoutMS: 20000.0ms), Timeout: 1.0s, Topology Description: <TopologyDescription id: 68dbeb79e6d83968ade37a8b, topology_type: Unknown, servers: [<ServerDescription ('localhost', 27017) server_type: Unknown, rtt: None, error=AutoReconnect('localhost:27017: [Errno 111] Connection refused (configured timeouts: socketTimeoutMS: 20000.0ms, connectTimeoutMS: 20000.0ms)')>]>\n",
      "Using mongomock (in-memory MongoDB emulator).\n"
     ]
    }
   ],
   "source": [
    "from pprint import pprint\n",
    "client = None\n",
    "db = None\n",
    "using_mock = False\n",
    "\n",
    "try:\n",
    "    from pymongo import MongoClient\n",
    "    uri = os.environ.get('MONGODB_URI', 'mongodb://localhost:27017/')\n",
    "    client = MongoClient(uri, serverSelectionTimeoutMS=1000)\n",
    "    _ = client.server_info()  # force connection\n",
    "    db = client['data304_m6']\n",
    "    print('Connected to MongoDB at', uri)\n",
    "except Exception as e:\n",
    "    print('Real MongoDB not available -> trying mongomock. Error was:', str(e))\n",
    "    try:\n",
    "        import mongomock\n",
    "        client = mongomock.MongoClient()\n",
    "        db = client['data304_m6']\n",
    "        using_mock = True\n",
    "        print('Using mongomock (in-memory MongoDB emulator).')\n",
    "    except Exception as ee:\n",
    "        raise RuntimeError('Neither real MongoDB nor mongomock available. Install pymongo or mongomock.') from ee"
   ]
  },
  {
   "cell_type": "markdown",
   "id": "5c97a535",
   "metadata": {},
   "source": [
    "## 2) Create sample collections and insert documents\n",
    "We will create three collections: `users`, `products`, and `orders`."
   ]
  },
  {
   "cell_type": "code",
   "execution_count": 3,
   "id": "4077eea0",
   "metadata": {},
   "outputs": [
    {
     "name": "stdout",
     "output_type": "stream",
     "text": [
      "Seeded users/products/orders.\n"
     ]
    }
   ],
   "source": [
    "users = db['users']\n",
    "products = db['products']\n",
    "orders = db['orders']\n",
    "\n",
    "# Clean slate for reruns\n",
    "users.delete_many({})\n",
    "products.delete_many({})\n",
    "orders.delete_many({})\n",
    "\n",
    "users.insert_many([\n",
    "    {\"_id\": 1, \"name\": \"Alice\", \"age\": 29, \"email\": \"alice@example.com\", \"tags\": [\"python\", \"sql\"], \"address\": {\"city\": \"Knoxville\", \"state\": \"TN\"}},\n",
    "    {\"_id\": 2, \"name\": \"Bob\",   \"age\": 35, \"email\": \"bob@example.com\",   \"tags\": [\"marketing\"],        \"address\": {\"city\": \"Nashville\", \"state\": \"TN\"}},\n",
    "    {\"_id\": 3, \"name\": \"Carla\", \"age\": 41, \"email\": \"carla@example.com\", \"tags\": [\"python\", \"ml\"],     \"address\": {\"city\": \"Atlanta\",   \"state\": \"GA\"}},\n",
    "])\n",
    "\n",
    "products.insert_many([\n",
    "    {\"_id\": 101, \"sku\": \"ABC-001\", \"name\": \"Widget A\", \"category\": \"widgets\", \"price\": 19.99},\n",
    "    {\"_id\": 102, \"sku\": \"DEF-002\", \"name\": \"Widget B\", \"category\": \"widgets\", \"price\": 29.99},\n",
    "    {\"_id\": 201, \"sku\": \"GHI-010\", \"name\": \"Gadget X\", \"category\": \"gadgets\", \"price\": 49.99}\n",
    "])\n",
    "\n",
    "orders.insert_many([\n",
    "    {\"_id\": 1001, \"user_id\": 1, \"status\": \"A\", \"items\": [{\"product_id\": 101, \"qty\": 2}, {\"product_id\": 201, \"qty\": 1}], \"amount\": 89.97},\n",
    "    {\"_id\": 1002, \"user_id\": 2, \"status\": \"P\", \"items\": [{\"product_id\": 102, \"qty\": 1}],                       \"amount\": 29.99},\n",
    "    {\"_id\": 1003, \"user_id\": 1, \"status\": \"A\", \"items\": [{\"product_id\": 102, \"qty\": 3}],                       \"amount\": 89.97}\n",
    "])\n",
    "print('Seeded users/products/orders.')"
   ]
  },
  {
   "cell_type": "markdown",
   "id": "5c7c8802",
   "metadata": {},
   "source": [
    "## 3) Basic `find` queries\n",
    "Filter, projection, sort."
   ]
  },
  {
   "cell_type": "code",
   "execution_count": 4,
   "id": "fa68d733",
   "metadata": {},
   "outputs": [],
   "source": [
    "# All users aged > 30, project name and age only, sort by age desc\n",
    "cur = users.find(\n",
    "    {\"age\": {\"$gt\": 30}}, \n",
    "    {\"_id\": 0, \"name\": 1, \"age\": 1}).sort(\"age\", -1\n",
    ")"
   ]
  },
  {
   "cell_type": "code",
   "execution_count": 5,
   "id": "3c2d1c76",
   "metadata": {},
   "outputs": [
    {
     "name": "stdout",
     "output_type": "stream",
     "text": [
      "<mongomock.collection.Cursor object at 0x74d80a4beff0>\n"
     ]
    }
   ],
   "source": [
    "print(cur)"
   ]
  },
  {
   "cell_type": "code",
   "execution_count": 6,
   "id": "f0aba76d",
   "metadata": {},
   "outputs": [
    {
     "name": "stdout",
     "output_type": "stream",
     "text": [
      "{'name': 'Carla', 'age': 41}\n",
      "{'name': 'Bob', 'age': 35}\n"
     ]
    }
   ],
   "source": [
    "for doc in cur:\n",
    "    print(doc)"
   ]
  },
  {
   "cell_type": "code",
   "execution_count": 7,
   "id": "866edc1f",
   "metadata": {},
   "outputs": [
    {
     "data": {
      "text/plain": [
       "[]"
      ]
     },
     "execution_count": 7,
     "metadata": {},
     "output_type": "execute_result"
    }
   ],
   "source": [
    "list(cur)"
   ]
  },
  {
   "cell_type": "code",
   "execution_count": 8,
   "id": "86f917d8",
   "metadata": {},
   "outputs": [
    {
     "data": {
      "text/plain": [
       "[{'name': 'Carla', 'age': 41}, {'name': 'Bob', 'age': 35}]"
      ]
     },
     "execution_count": 8,
     "metadata": {},
     "output_type": "execute_result"
    }
   ],
   "source": [
    "cur = users.find(\n",
    "    {\"age\": {\"$gt\": 30}}, \n",
    "    {\"_id\": 0, \"name\": 1, \"age\": 1}).sort(\"age\", -1\n",
    ")\n",
    "list(cur)"
   ]
  },
  {
   "cell_type": "code",
   "execution_count": 9,
   "id": "8f9fa4ba",
   "metadata": {},
   "outputs": [
    {
     "data": {
      "text/plain": [
       "[{'name': 'Alice', 'tags': ['python', 'sql']},\n",
       " {'name': 'Carla', 'tags': ['python', 'ml']}]"
      ]
     },
     "execution_count": 9,
     "metadata": {},
     "output_type": "execute_result"
    }
   ],
   "source": [
    "# Users with tag 'python'\n",
    "list(\n",
    "    users.find(\n",
    "        {\"tags\": \"python\"}, \n",
    "        {\"_id\": 0, \"name\": 1, \"tags\": 1}\n",
    "    )\n",
    ")"
   ]
  },
  {
   "cell_type": "code",
   "execution_count": 10,
   "id": "2ce5d6bd",
   "metadata": {},
   "outputs": [
    {
     "data": {
      "text/plain": [
       "[{'name': 'Alice', 'address': {'city': 'Knoxville', 'state': 'TN'}},\n",
       " {'name': 'Bob', 'address': {'city': 'Nashville', 'state': 'TN'}}]"
      ]
     },
     "execution_count": 10,
     "metadata": {},
     "output_type": "execute_result"
    }
   ],
   "source": [
    "# Users in Tennessee (nested field match)\n",
    "list(\n",
    "    users.find(\n",
    "        {\"address.state\": \"TN\"}, \n",
    "        {\"_id\": 0, \"name\": 1, \"address\": 1}\n",
    "    )\n",
    ")"
   ]
  },
  {
   "cell_type": "markdown",
   "id": "38c769cd",
   "metadata": {},
   "source": [
    "## 4) Aggregation pipeline basics\n",
    "Use `$match`, `$group`, `$project`."
   ]
  },
  {
   "cell_type": "code",
   "execution_count": 11,
   "id": "20457f24",
   "metadata": {},
   "outputs": [
    {
     "data": {
      "text/plain": [
       "[{'orders': 2, 'total': 179.94, 'user_id': 1}]"
      ]
     },
     "execution_count": 11,
     "metadata": {},
     "output_type": "execute_result"
    }
   ],
   "source": [
    "pipeline = [\n",
    "    {\"$match\": \n",
    "            {\"status\": \"A\"}\n",
    "    },\n",
    "    {\"$group\": \n",
    "        {\n",
    "            \"_id\": \"$user_id\", \n",
    "            \"orders\": {\"$sum\": 1}, \n",
    "            \"total\": {\"$sum\": \"$amount\"}\n",
    "        }\n",
    "    },\n",
    "    {\"$project\": \n",
    "        {\n",
    "            \"_id\": 0, \n",
    "            \"user_id\": \"$_id\", \n",
    "            \"orders\": 1, \n",
    "            \"total\": 1\n",
    "        }\n",
    "    }\n",
    "]\n",
    "list(orders.aggregate(pipeline))"
   ]
  },
  {
   "cell_type": "markdown",
   "id": "60115d77",
   "metadata": {},
   "source": [
    "## 5) `$unwind` and `$lookup` (join-like)\n",
    "Explode arrays and join with `products` to compute totals per product."
   ]
  },
  {
   "cell_type": "code",
   "execution_count": 12,
   "id": "035afc8c",
   "metadata": {},
   "outputs": [
    {
     "data": {
      "text/plain": [
       "[{'qty': 4, 'revenue': 119.96, 'sku': 'DEF-002'},\n",
       " {'qty': 1, 'revenue': 49.99, 'sku': 'GHI-010'},\n",
       " {'qty': 2, 'revenue': 39.98, 'sku': 'ABC-001'}]"
      ]
     },
     "execution_count": 12,
     "metadata": {},
     "output_type": "execute_result"
    }
   ],
   "source": [
    "pipeline = [\n",
    "    {\"$unwind\": \"$items\"},\n",
    "    {\"$lookup\": {\"from\": \"products\", \"localField\": \"items.product_id\", \"foreignField\": \"_id\", \"as\": \"prod\"}},\n",
    "    {\"$unwind\": \"$prod\"},\n",
    "    {\"$group\": {\"_id\": \"$prod.sku\", \"qty\": {\"$sum\": \"$items.qty\"}, \"revenue\": {\"$sum\": {\"$multiply\": [\"$items.qty\", \"$prod.price\"]}}}},\n",
    "    {\"$project\": {\"_id\": 0, \"sku\": \"$_id\", \"qty\": 1, \"revenue\": 1}},\n",
    "    {\"$sort\": {\"revenue\": -1}}\n",
    "]\n",
    "list(orders.aggregate(pipeline))"
   ]
  },
  {
   "cell_type": "markdown",
   "id": "9493e6cf",
   "metadata": {},
   "source": [
    "SQL Equilavent:  \n",
    "\n",
    "```sql\n",
    "SELECT p.sku,  \n",
    "    SUM(i.qty) AS qty,  \n",
    "    SUM(i.qty * p.price) AS revenue  \n",
    "FROM orders o  \n",
    "JOIN order_items i ON o.id = i.order_id  \n",
    "JOIN products p ON i.product_id = p.id  \n",
    "GROUP BY p.sku  \n",
    "ORDER BY revenue DESC;  \n",
    "```"
   ]
  },
  {
   "cell_type": "markdown",
   "id": "639a4a2c",
   "metadata": {},
   "source": [
    "## 6) Indexes and explain\n",
    "Create an index and review an example query plan."
   ]
  },
  {
   "cell_type": "code",
   "execution_count": 13,
   "id": "ab5fb545",
   "metadata": {},
   "outputs": [
    {
     "name": "stdout",
     "output_type": "stream",
     "text": [
      "Explain may be limited in mongomock: 'Cursor' object has no attribute 'explain'\n"
     ]
    }
   ],
   "source": [
    "try:\n",
    "    users.create_index([('age', 1)])\n",
    "    plan = users.find({\"age\": {\"$gt\": 30}}).explain()\n",
    "    # Show selected parts of the plan for brevity\n",
    "    plan_keys = ['queryPlanner']\n",
    "    {k: plan.get(k) for k in plan_keys}\n",
    "except Exception as e:\n",
    "    print('Explain may be limited in mongomock:', e)"
   ]
  },
  {
   "cell_type": "markdown",
   "id": "d2faa51a",
   "metadata": {},
   "source": [
    "## 7) Pandas integration\n",
    "Convert cursors and aggregation results to DataFrames."
   ]
  },
  {
   "cell_type": "code",
   "execution_count": 14,
   "id": "b116b630",
   "metadata": {},
   "outputs": [
    {
     "data": {
      "text/html": [
       "<div>\n",
       "<style scoped>\n",
       "    .dataframe tbody tr th:only-of-type {\n",
       "        vertical-align: middle;\n",
       "    }\n",
       "\n",
       "    .dataframe tbody tr th {\n",
       "        vertical-align: top;\n",
       "    }\n",
       "\n",
       "    .dataframe thead th {\n",
       "        text-align: right;\n",
       "    }\n",
       "</style>\n",
       "<table border=\"1\" class=\"dataframe\">\n",
       "  <thead>\n",
       "    <tr style=\"text-align: right;\">\n",
       "      <th></th>\n",
       "      <th>name</th>\n",
       "      <th>age</th>\n",
       "      <th>email</th>\n",
       "      <th>tags</th>\n",
       "      <th>address</th>\n",
       "    </tr>\n",
       "  </thead>\n",
       "  <tbody>\n",
       "    <tr>\n",
       "      <th>0</th>\n",
       "      <td>Alice</td>\n",
       "      <td>29</td>\n",
       "      <td>alice@example.com</td>\n",
       "      <td>[python, sql]</td>\n",
       "      <td>{'city': 'Knoxville', 'state': 'TN'}</td>\n",
       "    </tr>\n",
       "    <tr>\n",
       "      <th>1</th>\n",
       "      <td>Bob</td>\n",
       "      <td>35</td>\n",
       "      <td>bob@example.com</td>\n",
       "      <td>[marketing]</td>\n",
       "      <td>{'city': 'Nashville', 'state': 'TN'}</td>\n",
       "    </tr>\n",
       "    <tr>\n",
       "      <th>2</th>\n",
       "      <td>Carla</td>\n",
       "      <td>41</td>\n",
       "      <td>carla@example.com</td>\n",
       "      <td>[python, ml]</td>\n",
       "      <td>{'city': 'Atlanta', 'state': 'GA'}</td>\n",
       "    </tr>\n",
       "  </tbody>\n",
       "</table>\n",
       "</div>"
      ],
      "text/plain": [
       "    name  age              email           tags  \\\n",
       "0  Alice   29  alice@example.com  [python, sql]   \n",
       "1    Bob   35    bob@example.com    [marketing]   \n",
       "2  Carla   41  carla@example.com   [python, ml]   \n",
       "\n",
       "                                address  \n",
       "0  {'city': 'Knoxville', 'state': 'TN'}  \n",
       "1  {'city': 'Nashville', 'state': 'TN'}  \n",
       "2    {'city': 'Atlanta', 'state': 'GA'}  "
      ]
     },
     "execution_count": 14,
     "metadata": {},
     "output_type": "execute_result"
    }
   ],
   "source": [
    "df_users = pd.DataFrame(list(users.find({}, {'_id': 0})))\n",
    "df_users"
   ]
  },
  {
   "cell_type": "code",
   "execution_count": 15,
   "id": "79340d15",
   "metadata": {},
   "outputs": [
    {
     "data": {
      "text/html": [
       "<div>\n",
       "<style scoped>\n",
       "    .dataframe tbody tr th:only-of-type {\n",
       "        vertical-align: middle;\n",
       "    }\n",
       "\n",
       "    .dataframe tbody tr th {\n",
       "        vertical-align: top;\n",
       "    }\n",
       "\n",
       "    .dataframe thead th {\n",
       "        text-align: right;\n",
       "    }\n",
       "</style>\n",
       "<table border=\"1\" class=\"dataframe\">\n",
       "  <thead>\n",
       "    <tr style=\"text-align: right;\">\n",
       "      <th></th>\n",
       "      <th>revenue</th>\n",
       "      <th>category</th>\n",
       "    </tr>\n",
       "  </thead>\n",
       "  <tbody>\n",
       "    <tr>\n",
       "      <th>0</th>\n",
       "      <td>49.99</td>\n",
       "      <td>gadgets</td>\n",
       "    </tr>\n",
       "    <tr>\n",
       "      <th>1</th>\n",
       "      <td>159.94</td>\n",
       "      <td>widgets</td>\n",
       "    </tr>\n",
       "  </tbody>\n",
       "</table>\n",
       "</div>"
      ],
      "text/plain": [
       "   revenue category\n",
       "0    49.99  gadgets\n",
       "1   159.94  widgets"
      ]
     },
     "execution_count": 15,
     "metadata": {},
     "output_type": "execute_result"
    }
   ],
   "source": [
    "df_rev = pd.DataFrame(list(orders.aggregate([\n",
    "    {\"$unwind\": \"$items\"},\n",
    "    {\"$lookup\": {\"from\": \"products\", \"localField\": \"items.product_id\", \"foreignField\": \"_id\", \"as\": \"prod\"}},\n",
    "    {\"$unwind\": \"$prod\"},\n",
    "    {\"$group\": {\"_id\": \"$prod.category\", \"revenue\": {\"$sum\": {\"$multiply\": [\"$items.qty\", \"$prod.price\"]}}}},\n",
    "    {\"$project\": {\"_id\": 0, \"category\": \"$_id\", \"revenue\": 1}}\n",
    "])))\n",
    "df_rev"
   ]
  },
  {
   "cell_type": "markdown",
   "id": "af2a80be",
   "metadata": {},
   "source": [
    "## 8) Parameterized-style filters\n",
    "Build queries safely by constructing dicts."
   ]
  },
  {
   "cell_type": "code",
   "execution_count": 16,
   "id": "9b4d4eff",
   "metadata": {},
   "outputs": [
    {
     "data": {
      "text/plain": [
       "[{'name': 'Alice', 'address': {'city': 'Knoxville', 'state': 'TN'}},\n",
       " {'name': 'Bob', 'address': {'city': 'Nashville', 'state': 'TN'}}]"
      ]
     },
     "execution_count": 16,
     "metadata": {},
     "output_type": "execute_result"
    }
   ],
   "source": [
    "def get_users_by_states(states):\n",
    "    q = {\"address.state\": {\"$in\": list(states)}}\n",
    "    proj = {\"_id\": 0, \"name\": 1, \"address\": 1}\n",
    "    return list(users.find(q, proj))\n",
    "\n",
    "get_users_by_states([\"TN\"])"
   ]
  },
  {
   "cell_type": "markdown",
   "id": "f4664b94",
   "metadata": {},
   "source": [
    "## 9) Mini-Exercises\n",
    "Write queries directly in the cells below."
   ]
  },
  {
   "cell_type": "markdown",
   "id": "33bc583c",
   "metadata": {},
   "source": [
    "Q1: Find orders with amount >= 50, return _id and amount, sorted by amount desc"
   ]
  },
  {
   "cell_type": "code",
   "execution_count": 17,
   "id": "307e60c9",
   "metadata": {},
   "outputs": [
    {
     "data": {
      "text/plain": [
       "[{'amount': 89.97, '_id': 1001}, {'amount': 89.97, '_id': 1003}]"
      ]
     },
     "execution_count": 17,
     "metadata": {},
     "output_type": "execute_result"
    }
   ],
   "source": [
    "list(orders.find({\"amount\": {\"$gte\": 50}}, {\"_id\": 1, \"amount\": 1}).sort(\"amount\", -1))"
   ]
  },
  {
   "cell_type": "markdown",
   "id": "1211b563",
   "metadata": {},
   "source": [
    "Q2: Aggregation: total amount per status, sorted by total desc"
   ]
  },
  {
   "cell_type": "code",
   "execution_count": 18,
   "id": "9ba61117",
   "metadata": {},
   "outputs": [
    {
     "data": {
      "text/plain": [
       "[{'total': 179.94, 'status': 'A'}, {'total': 29.99, 'status': 'P'}]"
      ]
     },
     "execution_count": 18,
     "metadata": {},
     "output_type": "execute_result"
    }
   ],
   "source": [
    "list(orders.aggregate([\n",
    "    {\"$group\": {\"_id\": \"$status\", \"total\": {\"$sum\": \"$amount\"}}},\n",
    "    {\"$project\": {\"_id\": 0, \"status\": \"$_id\", \"total\": 1}},\n",
    "    {\"$sort\": {\"total\": -1}}\n",
    "]))"
   ]
  },
  {
   "cell_type": "markdown",
   "id": "020fc85e",
   "metadata": {},
   "source": [
    "Q3: Using $lookup, list each order with user name"
   ]
  },
  {
   "cell_type": "code",
   "execution_count": 19,
   "id": "556b29a2",
   "metadata": {},
   "outputs": [
    {
     "data": {
      "text/plain": [
       "[{'_id': 1001, 'status': 'A', 'amount': 89.97, 'user': 'Alice'},\n",
       " {'_id': 1002, 'status': 'P', 'amount': 29.99, 'user': 'Bob'},\n",
       " {'_id': 1003, 'status': 'A', 'amount': 89.97, 'user': 'Alice'}]"
      ]
     },
     "execution_count": 19,
     "metadata": {},
     "output_type": "execute_result"
    }
   ],
   "source": [
    "list(orders.aggregate([\n",
    "    {\"$lookup\": {\"from\": \"users\", \"localField\": \"user_id\", \"foreignField\": \"_id\", \"as\": \"u\"}},\n",
    "    {\"$unwind\": \"$u\"},\n",
    "    {\"$project\": {\"_id\": 1, \"user\": \"$u.name\", \"amount\": 1, \"status\": 1}}\n",
    "]))"
   ]
  },
  {
   "cell_type": "markdown",
   "id": "5b86cd51",
   "metadata": {},
   "source": [
    "## 10) Cleanup (optional)"
   ]
  },
  {
   "cell_type": "code",
   "execution_count": 20,
   "id": "8034f9c9",
   "metadata": {},
   "outputs": [
    {
     "name": "stdout",
     "output_type": "stream",
     "text": [
      "Done.\n"
     ]
    }
   ],
   "source": [
    "# Uncomment to drop the database when done\n",
    "client.drop_database('data304_m6')\n",
    "print('Done.')"
   ]
  },
  {
   "cell_type": "markdown",
   "id": "eb0ddc67",
   "metadata": {},
   "source": [
    "---\n",
    "**End of Session 2 Notebook**\n",
    "\n",
    "Tips:\n",
    "- To use a real server locally, run MongoDB in Docker:\n",
    "  `docker run -d --name mdb -p 27017:27017 mongo:7`\n",
    "- Or set `MONGODB_URI` to a MongoDB Atlas connection string.\n",
    "- Then rerun the connection cell."
   ]
  }
 ],
 "metadata": {
  "kernelspec": {
   "display_name": "Python 3",
   "language": "python",
   "name": "python3"
  },
  "language_info": {
   "codemirror_mode": {
    "name": "ipython",
    "version": 3
   },
   "file_extension": ".py",
   "mimetype": "text/x-python",
   "name": "python",
   "nbconvert_exporter": "python",
   "pygments_lexer": "ipython3",
   "version": "3.12.11"
  }
 },
 "nbformat": 4,
 "nbformat_minor": 5
}
